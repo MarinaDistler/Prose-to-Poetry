{
  "cells": [
    {
      "cell_type": "markdown",
      "metadata": {
        "id": "xLrQRwcz_4QS"
      },
      "source": [
        "# Creating the dataset of stanzas"
      ]
    },
    {
      "cell_type": "markdown",
      "metadata": {},
      "source": [
        "Creates files `all_poems.csv` with all used poems, `all_stanzas.csv` with all used quatrains, annotated with rhyme scheme and meter, and splits `all_stanzas.csv` to test, train and pretrain parts. Also this notebook creates stress, rhyme and stress_rhyme markups."
      ]
    },
    {
      "cell_type": "markdown",
      "metadata": {
        "id": "WvRQwxQM154p"
      },
      "source": [
        "## Downloading poetree dataset"
      ]
    },
    {
      "cell_type": "code",
      "execution_count": null,
      "metadata": {
        "id": "rkz4WPcMADeQ"
      },
      "outputs": [],
      "source": [
        "%pip install poetree"
      ]
    },
    {
      "cell_type": "code",
      "execution_count": null,
      "metadata": {
        "id": "K598YUUeAFkg"
      },
      "outputs": [],
      "source": [
        "import poetree\n",
        "import pandas as pd\n",
        "from tqdm import tqdm"
      ]
    },
    {
      "cell_type": "code",
      "execution_count": null,
      "metadata": {
        "colab": {
          "base_uri": "https://localhost:8080/"
        },
        "id": "vnd9801pAN1F",
        "outputId": "ee779eea-33b3-4129-e474-332b202f0241"
      },
      "outputs": [
        {
          "name": "stdout",
          "output_type": "stream",
          "text": [
            "number of authors: 371\n",
            "number of poems: 45563\n"
          ]
        }
      ],
      "source": [
        "corpus = poetree.Corpus('ru')\n",
        "print('number of authors:', corpus.n_authors)\n",
        "print('number of poems:', corpus.n_poems)"
      ]
    },
    {
      "cell_type": "code",
      "execution_count": null,
      "metadata": {
        "colab": {
          "base_uri": "https://localhost:8080/",
          "height": 423
        },
        "id": "LoazBBB54yjz",
        "outputId": "83516599-e590-46e6-db85-cb2b9d7afa51"
      },
      "outputs": [
        {
          "data": {
            "text/html": [
              "\n",
              "  <div id=\"df-415873a0-2d06-495e-9b66-692fc524758e\" class=\"colab-df-container\">\n",
              "    <div>\n",
              "<style scoped>\n",
              "    .dataframe tbody tr th:only-of-type {\n",
              "        vertical-align: middle;\n",
              "    }\n",
              "\n",
              "    .dataframe tbody tr th {\n",
              "        vertical-align: top;\n",
              "    }\n",
              "\n",
              "    .dataframe thead th {\n",
              "        text-align: right;\n",
              "    }\n",
              "</style>\n",
              "<table border=\"1\" class=\"dataframe\">\n",
              "  <thead>\n",
              "    <tr style=\"text-align: right;\">\n",
              "      <th></th>\n",
              "      <th>id_</th>\n",
              "      <th>name</th>\n",
              "      <th>viaf</th>\n",
              "      <th>wiki</th>\n",
              "      <th>country</th>\n",
              "      <th>born</th>\n",
              "      <th>died</th>\n",
              "      <th>n_poems</th>\n",
              "      <th>corpus</th>\n",
              "    </tr>\n",
              "  </thead>\n",
              "  <tbody>\n",
              "    <tr>\n",
              "      <th>0</th>\n",
              "      <td>81</td>\n",
              "      <td>Ablesimov A.A.</td>\n",
              "      <td>22565877</td>\n",
              "      <td>Q2997224</td>\n",
              "      <td>None</td>\n",
              "      <td>1742.0</td>\n",
              "      <td>1783.0</td>\n",
              "      <td>12</td>\n",
              "      <td>ru</td>\n",
              "    </tr>\n",
              "    <tr>\n",
              "      <th>1</th>\n",
              "      <td>52</td>\n",
              "      <td>Adalis A.E.</td>\n",
              "      <td>4778618</td>\n",
              "      <td>Q4057234</td>\n",
              "      <td>None</td>\n",
              "      <td>1900.0</td>\n",
              "      <td>1969.0</td>\n",
              "      <td>132</td>\n",
              "      <td>ru</td>\n",
              "    </tr>\n",
              "    <tr>\n",
              "      <th>2</th>\n",
              "      <td>9</td>\n",
              "      <td>Adamovich G.V.</td>\n",
              "      <td>54329901</td>\n",
              "      <td>Q2623542</td>\n",
              "      <td>None</td>\n",
              "      <td>1892.0</td>\n",
              "      <td>1972.0</td>\n",
              "      <td>174</td>\n",
              "      <td>ru</td>\n",
              "    </tr>\n",
              "    <tr>\n",
              "      <th>3</th>\n",
              "      <td>4</td>\n",
              "      <td>Ahmatova A.A.</td>\n",
              "      <td>49220707</td>\n",
              "      <td>Q80440</td>\n",
              "      <td>None</td>\n",
              "      <td>1889.0</td>\n",
              "      <td>1966.0</td>\n",
              "      <td>945</td>\n",
              "      <td>ru</td>\n",
              "    </tr>\n",
              "    <tr>\n",
              "      <th>4</th>\n",
              "      <td>358</td>\n",
              "      <td>Almazov B.N.</td>\n",
              "      <td>60059868</td>\n",
              "      <td>Q4062730</td>\n",
              "      <td>None</td>\n",
              "      <td>1827.0</td>\n",
              "      <td>1876.0</td>\n",
              "      <td>11</td>\n",
              "      <td>ru</td>\n",
              "    </tr>\n",
              "    <tr>\n",
              "      <th>...</th>\n",
              "      <td>...</td>\n",
              "      <td>...</td>\n",
              "      <td>...</td>\n",
              "      <td>...</td>\n",
              "      <td>...</td>\n",
              "      <td>...</td>\n",
              "      <td>...</td>\n",
              "      <td>...</td>\n",
              "      <td>...</td>\n",
              "    </tr>\n",
              "    <tr>\n",
              "      <th>366</th>\n",
              "      <td>126</td>\n",
              "      <td>Zhukov V.M.</td>\n",
              "      <td>None</td>\n",
              "      <td>None</td>\n",
              "      <td>None</td>\n",
              "      <td>1764.0</td>\n",
              "      <td>1799.0</td>\n",
              "      <td>1</td>\n",
              "      <td>ru</td>\n",
              "    </tr>\n",
              "    <tr>\n",
              "      <th>367</th>\n",
              "      <td>97</td>\n",
              "      <td>Zhukova A.S.</td>\n",
              "      <td>None</td>\n",
              "      <td>None</td>\n",
              "      <td>None</td>\n",
              "      <td>NaN</td>\n",
              "      <td>1799.0</td>\n",
              "      <td>1</td>\n",
              "      <td>ru</td>\n",
              "    </tr>\n",
              "    <tr>\n",
              "      <th>368</th>\n",
              "      <td>347</td>\n",
              "      <td>Zhukovskij V.A.</td>\n",
              "      <td>5050093</td>\n",
              "      <td>Q157623</td>\n",
              "      <td>None</td>\n",
              "      <td>1783.0</td>\n",
              "      <td>1852.0</td>\n",
              "      <td>673</td>\n",
              "      <td>ru</td>\n",
              "    </tr>\n",
              "    <tr>\n",
              "      <th>369</th>\n",
              "      <td>138</td>\n",
              "      <td>Zhulev G.N.</td>\n",
              "      <td>100144648463231364487</td>\n",
              "      <td>Q4181616</td>\n",
              "      <td>None</td>\n",
              "      <td>1836.0</td>\n",
              "      <td>1878.0</td>\n",
              "      <td>7</td>\n",
              "      <td>ru</td>\n",
              "    </tr>\n",
              "    <tr>\n",
              "      <th>370</th>\n",
              "      <td>24</td>\n",
              "      <td>[anonymous]</td>\n",
              "      <td>None</td>\n",
              "      <td>None</td>\n",
              "      <td>None</td>\n",
              "      <td>NaN</td>\n",
              "      <td>NaN</td>\n",
              "      <td>66</td>\n",
              "      <td>ru</td>\n",
              "    </tr>\n",
              "  </tbody>\n",
              "</table>\n",
              "<p>371 rows × 9 columns</p>\n",
              "</div>\n",
              "    <div class=\"colab-df-buttons\">\n",
              "      \n",
              "  <div class=\"colab-df-container\">\n",
              "    <button class=\"colab-df-convert\" onclick=\"convertToInteractive('df-415873a0-2d06-495e-9b66-692fc524758e')\"\n",
              "            title=\"Convert this dataframe to an interactive table.\"\n",
              "            style=\"display:none;\">\n",
              "      \n",
              "  <svg xmlns=\"http://www.w3.org/2000/svg\" height=\"24px\" viewBox=\"0 -960 960 960\">\n",
              "    <path d=\"M120-120v-720h720v720H120Zm60-500h600v-160H180v160Zm220 220h160v-160H400v160Zm0 220h160v-160H400v160ZM180-400h160v-160H180v160Zm440 0h160v-160H620v160ZM180-180h160v-160H180v160Zm440 0h160v-160H620v160Z\"/>\n",
              "  </svg>\n",
              "    </button>\n",
              "    \n",
              "  <style>\n",
              "    .colab-df-container {\n",
              "      display:flex;\n",
              "      gap: 12px;\n",
              "    }\n",
              "\n",
              "    .colab-df-convert {\n",
              "      background-color: #E8F0FE;\n",
              "      border: none;\n",
              "      border-radius: 50%;\n",
              "      cursor: pointer;\n",
              "      display: none;\n",
              "      fill: #1967D2;\n",
              "      height: 32px;\n",
              "      padding: 0 0 0 0;\n",
              "      width: 32px;\n",
              "    }\n",
              "\n",
              "    .colab-df-convert:hover {\n",
              "      background-color: #E2EBFA;\n",
              "      box-shadow: 0px 1px 2px rgba(60, 64, 67, 0.3), 0px 1px 3px 1px rgba(60, 64, 67, 0.15);\n",
              "      fill: #174EA6;\n",
              "    }\n",
              "\n",
              "    .colab-df-buttons div {\n",
              "      margin-bottom: 4px;\n",
              "    }\n",
              "\n",
              "    [theme=dark] .colab-df-convert {\n",
              "      background-color: #3B4455;\n",
              "      fill: #D2E3FC;\n",
              "    }\n",
              "\n",
              "    [theme=dark] .colab-df-convert:hover {\n",
              "      background-color: #434B5C;\n",
              "      box-shadow: 0px 1px 3px 1px rgba(0, 0, 0, 0.15);\n",
              "      filter: drop-shadow(0px 1px 2px rgba(0, 0, 0, 0.3));\n",
              "      fill: #FFFFFF;\n",
              "    }\n",
              "  </style>\n",
              "\n",
              "    <script>\n",
              "      const buttonEl =\n",
              "        document.querySelector('#df-415873a0-2d06-495e-9b66-692fc524758e button.colab-df-convert');\n",
              "      buttonEl.style.display =\n",
              "        google.colab.kernel.accessAllowed ? 'block' : 'none';\n",
              "\n",
              "      async function convertToInteractive(key) {\n",
              "        const element = document.querySelector('#df-415873a0-2d06-495e-9b66-692fc524758e');\n",
              "        const dataTable =\n",
              "          await google.colab.kernel.invokeFunction('convertToInteractive',\n",
              "                                                    [key], {});\n",
              "        if (!dataTable) return;\n",
              "\n",
              "        const docLinkHtml = 'Like what you see? Visit the ' +\n",
              "          '<a target=\"_blank\" href=https://colab.research.google.com/notebooks/data_table.ipynb>data table notebook</a>'\n",
              "          + ' to learn more about interactive tables.';\n",
              "        element.innerHTML = '';\n",
              "        dataTable['output_type'] = 'display_data';\n",
              "        await google.colab.output.renderOutput(dataTable, element);\n",
              "        const docLink = document.createElement('div');\n",
              "        docLink.innerHTML = docLinkHtml;\n",
              "        element.appendChild(docLink);\n",
              "      }\n",
              "    </script>\n",
              "  </div>\n",
              "  \n",
              "    </div>\n",
              "  </div>\n",
              "  "
            ],
            "text/plain": [
              "     id_             name                   viaf      wiki country    born  \\\n",
              "0     81   Ablesimov A.A.               22565877  Q2997224    None  1742.0   \n",
              "1     52      Adalis A.E.                4778618  Q4057234    None  1900.0   \n",
              "2      9   Adamovich G.V.               54329901  Q2623542    None  1892.0   \n",
              "3      4    Ahmatova A.A.               49220707    Q80440    None  1889.0   \n",
              "4    358     Almazov B.N.               60059868  Q4062730    None  1827.0   \n",
              "..   ...              ...                    ...       ...     ...     ...   \n",
              "366  126      Zhukov V.M.                   None      None    None  1764.0   \n",
              "367   97     Zhukova A.S.                   None      None    None     NaN   \n",
              "368  347  Zhukovskij V.A.                5050093   Q157623    None  1783.0   \n",
              "369  138      Zhulev G.N.  100144648463231364487  Q4181616    None  1836.0   \n",
              "370   24      [anonymous]                   None      None    None     NaN   \n",
              "\n",
              "       died  n_poems corpus  \n",
              "0    1783.0       12     ru  \n",
              "1    1969.0      132     ru  \n",
              "2    1972.0      174     ru  \n",
              "3    1966.0      945     ru  \n",
              "4    1876.0       11     ru  \n",
              "..      ...      ...    ...  \n",
              "366  1799.0        1     ru  \n",
              "367  1799.0        1     ru  \n",
              "368  1852.0      673     ru  \n",
              "369  1878.0        7     ru  \n",
              "370     NaN       66     ru  \n",
              "\n",
              "[371 rows x 9 columns]"
            ]
          },
          "execution_count": 10,
          "metadata": {},
          "output_type": "execute_result"
        }
      ],
      "source": [
        "corpus.get_authors()\n",
        "df_ = corpus.metadata(target='authors', output='pandas')\n",
        "df_"
      ]
    },
    {
      "cell_type": "code",
      "execution_count": null,
      "metadata": {
        "id": "xEuKAXX1HynX"
      },
      "outputs": [],
      "source": [
        "poems, authors = [], []\n",
        "i = 0\n",
        "for author in tqdm(corpus.get_authors()):\n",
        "    for poem in author.get_poems():\n",
        "        try:\n",
        "            poems.append(list(pd.DataFrame(poem.get_body())['text'].values))\n",
        "            authors.append(author.name)\n",
        "        except:\n",
        "            continue\n",
        "        if len(poems) >= 1000:\n",
        "            df = pd.DataFrame({'poems': poems, 'authors': authors})\n",
        "            df.to_csv(f'poems{i}.csv')\n",
        "            poems, authors = [], []\n",
        "            i += 1\n",
        "df = pd.DataFrame({'poems': poems, 'authors': authors})\n",
        "df.to_csv(f'poems{i}.csv')\n",
        "df"
      ]
    },
    {
      "cell_type": "code",
      "execution_count": null,
      "metadata": {
        "collapsed": true,
        "id": "rAjunJqwjLeS"
      },
      "outputs": [],
      "source": [
        "dfs = []\n",
        "for j in range(i):\n",
        "    dfs.append(pd.read_csv(f'poems{j}.csv'))\n",
        "df = pd.concat(dfs)\n",
        "df.to_csv('all_poems.csv')"
      ]
    },
    {
      "cell_type": "code",
      "execution_count": null,
      "metadata": {
        "colab": {
          "base_uri": "https://localhost:8080/",
          "height": 423
        },
        "id": "9YB4lMfoamYc",
        "outputId": "b712f82a-a929-41d6-df99-29a6614456e7"
      },
      "outputs": [
        {
          "data": {
            "text/html": [
              "\n",
              "  <div id=\"df-2dc80a3f-c9be-4ec9-9c29-0fd86fcaed2c\" class=\"colab-df-container\">\n",
              "    <div>\n",
              "<style scoped>\n",
              "    .dataframe tbody tr th:only-of-type {\n",
              "        vertical-align: middle;\n",
              "    }\n",
              "\n",
              "    .dataframe tbody tr th {\n",
              "        vertical-align: top;\n",
              "    }\n",
              "\n",
              "    .dataframe thead th {\n",
              "        text-align: right;\n",
              "    }\n",
              "</style>\n",
              "<table border=\"1\" class=\"dataframe\">\n",
              "  <thead>\n",
              "    <tr style=\"text-align: right;\">\n",
              "      <th></th>\n",
              "      <th>poems</th>\n",
              "      <th>authors</th>\n",
              "    </tr>\n",
              "  </thead>\n",
              "  <tbody>\n",
              "    <tr>\n",
              "      <th>0</th>\n",
              "      <td>['Лисица и Колдун в лесу сошлися', 'И так, как...</td>\n",
              "      <td>Ablesimov A.A.</td>\n",
              "    </tr>\n",
              "    <tr>\n",
              "      <th>1</th>\n",
              "      <td>['Читал печатное, не помню, где-то я,', 'А пов...</td>\n",
              "      <td>Ablesimov A.A.</td>\n",
              "    </tr>\n",
              "    <tr>\n",
              "      <th>2</th>\n",
              "      <td>['Приказчик в деревнях, иль в доме управитель,...</td>\n",
              "      <td>Ablesimov A.A.</td>\n",
              "    </tr>\n",
              "    <tr>\n",
              "      <th>3</th>\n",
              "      <td>['Подьячий здесь зарыт, нашел который клад,', ...</td>\n",
              "      <td>Ablesimov A.A.</td>\n",
              "    </tr>\n",
              "    <tr>\n",
              "      <th>4</th>\n",
              "      <td>['При реке', 'Невдалеке', 'От той дубровы,', '...</td>\n",
              "      <td>Ablesimov A.A.</td>\n",
              "    </tr>\n",
              "    <tr>\n",
              "      <th>...</th>\n",
              "      <td>...</td>\n",
              "      <td>...</td>\n",
              "    </tr>\n",
              "    <tr>\n",
              "      <th>47277</th>\n",
              "      <td>['Кто знатен и силен,', 'Да не умен,', 'Так ху...</td>\n",
              "      <td>Krylov I.A.</td>\n",
              "    </tr>\n",
              "    <tr>\n",
              "      <th>47278</th>\n",
              "      <td>['По улицам Слона водили,', 'Как видно напоказ...</td>\n",
              "      <td>Krylov I.A.</td>\n",
              "    </tr>\n",
              "    <tr>\n",
              "      <th>47279</th>\n",
              "      <td>['Почто, мой друг, кричишь ты так на страсти',...</td>\n",
              "      <td>Krylov I.A.</td>\n",
              "    </tr>\n",
              "    <tr>\n",
              "      <th>47280</th>\n",
              "      <td>['Стрелок весной малиновку убил.', 'Уж пусть б...</td>\n",
              "      <td>Krylov I.A.</td>\n",
              "    </tr>\n",
              "    <tr>\n",
              "      <th>47281</th>\n",
              "      <td>['Лев убирал за завтраком ягненка;', 'А собачо...</td>\n",
              "      <td>Krylov I.A.</td>\n",
              "    </tr>\n",
              "  </tbody>\n",
              "</table>\n",
              "<p>45566 rows × 2 columns</p>\n",
              "</div>\n",
              "    <div class=\"colab-df-buttons\">\n",
              "      \n",
              "  <div class=\"colab-df-container\">\n",
              "    <button class=\"colab-df-convert\" onclick=\"convertToInteractive('df-2dc80a3f-c9be-4ec9-9c29-0fd86fcaed2c')\"\n",
              "            title=\"Convert this dataframe to an interactive table.\"\n",
              "            style=\"display:none;\">\n",
              "      \n",
              "  <svg xmlns=\"http://www.w3.org/2000/svg\" height=\"24px\" viewBox=\"0 -960 960 960\">\n",
              "    <path d=\"M120-120v-720h720v720H120Zm60-500h600v-160H180v160Zm220 220h160v-160H400v160Zm0 220h160v-160H400v160ZM180-400h160v-160H180v160Zm440 0h160v-160H620v160ZM180-180h160v-160H180v160Zm440 0h160v-160H620v160Z\"/>\n",
              "  </svg>\n",
              "    </button>\n",
              "    \n",
              "  <style>\n",
              "    .colab-df-container {\n",
              "      display:flex;\n",
              "      gap: 12px;\n",
              "    }\n",
              "\n",
              "    .colab-df-convert {\n",
              "      background-color: #E8F0FE;\n",
              "      border: none;\n",
              "      border-radius: 50%;\n",
              "      cursor: pointer;\n",
              "      display: none;\n",
              "      fill: #1967D2;\n",
              "      height: 32px;\n",
              "      padding: 0 0 0 0;\n",
              "      width: 32px;\n",
              "    }\n",
              "\n",
              "    .colab-df-convert:hover {\n",
              "      background-color: #E2EBFA;\n",
              "      box-shadow: 0px 1px 2px rgba(60, 64, 67, 0.3), 0px 1px 3px 1px rgba(60, 64, 67, 0.15);\n",
              "      fill: #174EA6;\n",
              "    }\n",
              "\n",
              "    .colab-df-buttons div {\n",
              "      margin-bottom: 4px;\n",
              "    }\n",
              "\n",
              "    [theme=dark] .colab-df-convert {\n",
              "      background-color: #3B4455;\n",
              "      fill: #D2E3FC;\n",
              "    }\n",
              "\n",
              "    [theme=dark] .colab-df-convert:hover {\n",
              "      background-color: #434B5C;\n",
              "      box-shadow: 0px 1px 3px 1px rgba(0, 0, 0, 0.15);\n",
              "      filter: drop-shadow(0px 1px 2px rgba(0, 0, 0, 0.3));\n",
              "      fill: #FFFFFF;\n",
              "    }\n",
              "  </style>\n",
              "\n",
              "    <script>\n",
              "      const buttonEl =\n",
              "        document.querySelector('#df-2dc80a3f-c9be-4ec9-9c29-0fd86fcaed2c button.colab-df-convert');\n",
              "      buttonEl.style.display =\n",
              "        google.colab.kernel.accessAllowed ? 'block' : 'none';\n",
              "\n",
              "      async function convertToInteractive(key) {\n",
              "        const element = document.querySelector('#df-2dc80a3f-c9be-4ec9-9c29-0fd86fcaed2c');\n",
              "        const dataTable =\n",
              "          await google.colab.kernel.invokeFunction('convertToInteractive',\n",
              "                                                    [key], {});\n",
              "        if (!dataTable) return;\n",
              "\n",
              "        const docLinkHtml = 'Like what you see? Visit the ' +\n",
              "          '<a target=\"_blank\" href=https://colab.research.google.com/notebooks/data_table.ipynb>data table notebook</a>'\n",
              "          + ' to learn more about interactive tables.';\n",
              "        element.innerHTML = '';\n",
              "        dataTable['output_type'] = 'display_data';\n",
              "        await google.colab.output.renderOutput(dataTable, element);\n",
              "        const docLink = document.createElement('div');\n",
              "        docLink.innerHTML = docLinkHtml;\n",
              "        element.appendChild(docLink);\n",
              "      }\n",
              "    </script>\n",
              "  </div>\n",
              "  \n",
              "    </div>\n",
              "  </div>\n",
              "  "
            ],
            "text/plain": [
              "                                                   poems         authors\n",
              "0      ['Лисица и Колдун в лесу сошлися', 'И так, как...  Ablesimov A.A.\n",
              "1      ['Читал печатное, не помню, где-то я,', 'А пов...  Ablesimov A.A.\n",
              "2      ['Приказчик в деревнях, иль в доме управитель,...  Ablesimov A.A.\n",
              "3      ['Подьячий здесь зарыт, нашел который клад,', ...  Ablesimov A.A.\n",
              "4      ['При реке', 'Невдалеке', 'От той дубровы,', '...  Ablesimov A.A.\n",
              "...                                                  ...             ...\n",
              "47277  ['Кто знатен и силен,', 'Да не умен,', 'Так ху...     Krylov I.A.\n",
              "47278  ['По улицам Слона водили,', 'Как видно напоказ...     Krylov I.A.\n",
              "47279  ['Почто, мой друг, кричишь ты так на страсти',...     Krylov I.A.\n",
              "47280  ['Стрелок весной малиновку убил.', 'Уж пусть б...     Krylov I.A.\n",
              "47281  ['Лев убирал за завтраком ягненка;', 'А собачо...     Krylov I.A.\n",
              "\n",
              "[45566 rows x 2 columns]"
            ]
          },
          "execution_count": 18,
          "metadata": {},
          "output_type": "execute_result"
        }
      ],
      "source": [
        "df"
      ]
    },
    {
      "cell_type": "markdown",
      "metadata": {
        "id": "3QOKUQWN2A2E"
      },
      "source": [
        "## Selection of quatrains"
      ]
    },
    {
      "cell_type": "code",
      "execution_count": null,
      "metadata": {
        "id": "VdGh-oGOFfET"
      },
      "outputs": [],
      "source": [
        "%pip install rhymetagger\n",
        "%apt-get install espeak -y"
      ]
    },
    {
      "cell_type": "code",
      "execution_count": null,
      "metadata": {
        "colab": {
          "base_uri": "https://localhost:8080/"
        },
        "id": "UQh5ezo0FfEU",
        "outputId": "cadf8c6d-ff61-4e58-b2cf-6a0625166f1a"
      },
      "outputs": [
        {
          "name": "stderr",
          "output_type": "stream",
          "text": [
            "[nltk_data] Downloading package punkt_tab to /root/nltk_data...\n",
            "[nltk_data]   Unzipping tokenizers/punkt_tab.zip.\n",
            "[nltk_data] Downloading package punkt to /root/nltk_data...\n",
            "[nltk_data]   Unzipping tokenizers/punkt.zip.\n"
          ]
        },
        {
          "name": "stdout",
          "output_type": "stream",
          "text": [
            "====================================\n",
            "Model loaded with following settings:\n",
            "====================================\n",
            "  frequency_min: 3\n",
            "           lang: ru\n",
            "       max_iter: 20\n",
            "          ngram: 3\n",
            "   ngram_length: 3\n",
            "   prob_ipa_min: 0.9\n",
            " prob_ngram_min: 0.9\n",
            "     same_words: False\n",
            "   stanza_limit: True\n",
            "         stress: True\n",
            "       syll_max: 2\n",
            "    t_score_min: 3.078\n",
            "   vowel_length: True\n",
            "         window: 5\n",
            "====================================\n"
          ]
        }
      ],
      "source": [
        "from rhymetagger import RhymeTagger\n",
        "import nltk\n",
        "import pandas as pd\n",
        "from tqdm import tqdm\n",
        "import ast\n",
        "\n",
        "nltk.download('punkt_tab')\n",
        "\n",
        "rt = RhymeTagger()\n",
        "rt.load_model(model='ru')  # Load the Russian rhyme model"
      ]
    },
    {
      "cell_type": "code",
      "execution_count": null,
      "metadata": {
        "id": "MwtE5mYwF2Dq"
      },
      "outputs": [],
      "source": [
        "schemes = {\n",
        "    (0, 0, 1, 1): 'AABB',\n",
        "    (0, 1, 0, 1): 'ABAB',\n",
        "    (0, 1, 1, 0): 'ABBA',\n",
        "}\n",
        "\n",
        "# function for selection of stanzas from poem\n",
        "def get_stanzas(lines):\n",
        "    rhymes = rt.tag(lines, output_format=3)\n",
        "    stanzas = []\n",
        "    rh_schemes = []\n",
        "    start = 0\n",
        "    while start < len(rhymes) - 3:\n",
        "        stanza = rhymes[start:start + 4]\n",
        "        if None in stanza:\n",
        "            start += 1\n",
        "            continue\n",
        "        min_d = min(stanza)\n",
        "        stanza_norm = tuple(map(lambda x: x-min_d, stanza))\n",
        "        if stanza_norm in schemes:\n",
        "            stanzas.append(lines[start:start + 4])\n",
        "            rh_schemes.append(schemes[stanza_norm])\n",
        "            start += 4\n",
        "        else:\n",
        "            start += 1\n",
        "    return stanzas, rh_schemes"
      ]
    },
    {
      "cell_type": "code",
      "execution_count": null,
      "metadata": {
        "id": "0Ls65qjIExtd"
      },
      "outputs": [],
      "source": [
        "all_df = pd.read_csv('all_poems.csv')\n",
        "stanzas, rh_schemes = [], []\n",
        "i = 0\n",
        "indexes = []\n",
        "for index, poem in tqdm(enumerate(all_df['poems'])):\n",
        "    poem = ast.literal_eval(poem)\n",
        "    st, rh = get_stanzas(poem)\n",
        "    stanzas.extend(st)\n",
        "    rh_schemes.extend(rh)\n",
        "    indexes.extend([index] * len(st))\n",
        "    if len(stanzas) > 1000:\n",
        "        df = pd.DataFrame({'stanzas': stanzas, 'rhyme_scheme': rh_schemes, 'index_poem': indexes})\n",
        "        df.to_csv(f'stanzas{i}.csv')\n",
        "        print(i)\n",
        "        i += 1\n",
        "        stanzas, rh_schemes = [], []\n",
        "        indexes = []\n",
        "\n",
        "df = pd.DataFrame({'stanzas': stanzas, 'rhyme_scheme': rh_schemes, 'index_poem': indexes})\n",
        "df.to_csv(f'stanzas{i}.csv')\n",
        "df"
      ]
    },
    {
      "cell_type": "code",
      "execution_count": null,
      "metadata": {
        "colab": {
          "base_uri": "https://localhost:8080/",
          "height": 423
        },
        "id": "iyi2qlO94naQ",
        "outputId": "10115e79-1b0d-4083-fde7-4c71857d6487"
      },
      "outputs": [],
      "source": [
        "dfs = []\n",
        "for j in range(i):\n",
        "    dfs.append(pd.read_csv(f'stanzas{j}.csv'))\n",
        "df = pd.concat(dfs).reset_index(drop=True)[['stanzas', 'rhyme_scheme', 'index_poem']]\n",
        "df['index_stanzas'] = df.index\n",
        "df = df.sample(frac=1.).reset_index(drop=True)\n",
        "df.to_csv('all_stanzas.csv', index=False)\n",
        "df"
      ]
    },
    {
      "cell_type": "markdown",
      "metadata": {
        "id": "MiB0-EA53PWi"
      },
      "source": [
        "Finding lens of quatrains to determine the minimun and maximun lens of prosa samples for test dataset."
      ]
    },
    {
      "cell_type": "code",
      "execution_count": null,
      "metadata": {
        "colab": {
          "base_uri": "https://localhost:8080/",
          "height": 423
        },
        "id": "rk6K537eRygm",
        "outputId": "2f2b041f-4983-4bb2-a8a9-458b88d478f5"
      },
      "outputs": [],
      "source": [
        "df['lens'] = [len('\\n'.join(x)) for x in df['stanzas']]"
      ]
    },
    {
      "cell_type": "code",
      "execution_count": null,
      "metadata": {
        "colab": {
          "base_uri": "https://localhost:8080/",
          "height": 335
        },
        "id": "EiPsjs_2TFxH",
        "outputId": "27c36f6f-5185-47d5-d8eb-6cac401fcb0c"
      },
      "outputs": [
        {
          "data": {
            "text/html": [
              "<div>\n",
              "<style scoped>\n",
              "    .dataframe tbody tr th:only-of-type {\n",
              "        vertical-align: middle;\n",
              "    }\n",
              "\n",
              "    .dataframe tbody tr th {\n",
              "        vertical-align: top;\n",
              "    }\n",
              "\n",
              "    .dataframe thead th {\n",
              "        text-align: right;\n",
              "    }\n",
              "</style>\n",
              "<table border=\"1\" class=\"dataframe\">\n",
              "  <thead>\n",
              "    <tr style=\"text-align: right;\">\n",
              "      <th></th>\n",
              "      <th>lens</th>\n",
              "    </tr>\n",
              "  </thead>\n",
              "  <tbody>\n",
              "    <tr>\n",
              "      <th>count</th>\n",
              "      <td>332.000000</td>\n",
              "    </tr>\n",
              "    <tr>\n",
              "      <th>mean</th>\n",
              "      <td>112.186747</td>\n",
              "    </tr>\n",
              "    <tr>\n",
              "      <th>std</th>\n",
              "      <td>29.656056</td>\n",
              "    </tr>\n",
              "    <tr>\n",
              "      <th>min</th>\n",
              "      <td>30.000000</td>\n",
              "    </tr>\n",
              "    <tr>\n",
              "      <th>25%</th>\n",
              "      <td>87.000000</td>\n",
              "    </tr>\n",
              "    <tr>\n",
              "      <th>50%</th>\n",
              "      <td>112.000000</td>\n",
              "    </tr>\n",
              "    <tr>\n",
              "      <th>75%</th>\n",
              "      <td>137.000000</td>\n",
              "    </tr>\n",
              "    <tr>\n",
              "      <th>max</th>\n",
              "      <td>184.000000</td>\n",
              "    </tr>\n",
              "  </tbody>\n",
              "</table>\n",
              "</div><br><label><b>dtype:</b> float64</label>"
            ],
            "text/plain": [
              "count    332.000000\n",
              "mean     112.186747\n",
              "std       29.656056\n",
              "min       30.000000\n",
              "25%       87.000000\n",
              "50%      112.000000\n",
              "75%      137.000000\n",
              "max      184.000000\n",
              "Name: lens, dtype: float64"
            ]
          },
          "execution_count": 16,
          "metadata": {},
          "output_type": "execute_result"
        }
      ],
      "source": [
        "df['lens'].describe()"
      ]
    },
    {
      "cell_type": "markdown",
      "metadata": {
        "id": "O8OCNhnl3huX"
      },
      "source": [
        "## Annotation of poems with meter"
      ]
    },
    {
      "cell_type": "markdown",
      "metadata": {},
      "source": [
        "For this section you need the code from prose-to-poetry directory so use:"
      ]
    },
    {
      "cell_type": "code",
      "execution_count": null,
      "metadata": {},
      "outputs": [],
      "source": [
        "%cd ../prose-to-poetry"
      ]
    },
    {
      "cell_type": "code",
      "execution_count": null,
      "metadata": {},
      "outputs": [],
      "source": [
        "import ast\n",
        "import pandas as pd\n",
        "from tqdm import tqdm\n",
        "from metrics import get_meter"
      ]
    },
    {
      "cell_type": "markdown",
      "metadata": {},
      "source": [
        "Also you need `all_poems.csv` and `all_stanzas.csv` files."
      ]
    },
    {
      "cell_type": "code",
      "execution_count": null,
      "metadata": {},
      "outputs": [],
      "source": [
        "all_poems = pd.read_csv('all_poems.csv')\n",
        "all_poems['meter'] = None"
      ]
    },
    {
      "cell_type": "code",
      "execution_count": null,
      "metadata": {},
      "outputs": [],
      "source": [
        "for index, poem in tqdm(all_poems[['poems']].iterrows()):\n",
        "    poem = '\\n'.join(ast.literal_eval(poem['poems']))\n",
        "    m = get_meter(poem) \n",
        "    all_poems.loc[index, 'meter'] = m \n",
        "  \n",
        "all_poems   "
      ]
    },
    {
      "cell_type": "code",
      "execution_count": null,
      "metadata": {},
      "outputs": [],
      "source": [
        "all_poems.to_csv('all_poems.csv')"
      ]
    },
    {
      "cell_type": "markdown",
      "metadata": {},
      "source": [
        "Filling stanzas dataset with meter."
      ]
    },
    {
      "cell_type": "code",
      "execution_count": null,
      "metadata": {},
      "outputs": [],
      "source": [
        "all_df = pd.read_csv('../dataset/all_stanzas.csv')\n",
        "all_df.join(all_poems[['meter']], on='index_poem')"
      ]
    },
    {
      "cell_type": "markdown",
      "metadata": {
        "id": "fPSvPn8pXYA5"
      },
      "source": [
        "## Statistic of the stanzas dataset"
      ]
    },
    {
      "cell_type": "code",
      "execution_count": null,
      "metadata": {
        "colab": {
          "base_uri": "https://localhost:8080/",
          "height": 209
        },
        "id": "GoPxiSaFfFoo",
        "outputId": "14d9768c-2afb-471f-8709-ae555f38970c"
      },
      "outputs": [
        {
          "data": {
            "text/html": [
              "<div>\n",
              "<style scoped>\n",
              "    .dataframe tbody tr th:only-of-type {\n",
              "        vertical-align: middle;\n",
              "    }\n",
              "\n",
              "    .dataframe tbody tr th {\n",
              "        vertical-align: top;\n",
              "    }\n",
              "\n",
              "    .dataframe thead th {\n",
              "        text-align: right;\n",
              "    }\n",
              "</style>\n",
              "<table border=\"1\" class=\"dataframe\">\n",
              "  <thead>\n",
              "    <tr style=\"text-align: right;\">\n",
              "      <th></th>\n",
              "      <th>count</th>\n",
              "    </tr>\n",
              "    <tr>\n",
              "      <th>rhyme_scheme</th>\n",
              "      <th></th>\n",
              "    </tr>\n",
              "  </thead>\n",
              "  <tbody>\n",
              "    <tr>\n",
              "      <th>ABAB</th>\n",
              "      <td>112206</td>\n",
              "    </tr>\n",
              "    <tr>\n",
              "      <th>AABB</th>\n",
              "      <td>44918</td>\n",
              "    </tr>\n",
              "    <tr>\n",
              "      <th>ABBA</th>\n",
              "      <td>25779</td>\n",
              "    </tr>\n",
              "  </tbody>\n",
              "</table>\n",
              "</div><br><label><b>dtype:</b> int64</label>"
            ],
            "text/plain": [
              "rhyme_scheme\n",
              "ABAB    112206\n",
              "AABB     44918\n",
              "ABBA     25779\n",
              "Name: count, dtype: int64"
            ]
          },
          "execution_count": 3,
          "metadata": {},
          "output_type": "execute_result"
        }
      ],
      "source": [
        "df = pd.read_csv('all_stanzas.csv')\n",
        "df['rhyme_scheme'].value_counts()"
      ]
    },
    {
      "cell_type": "code",
      "execution_count": null,
      "metadata": {
        "colab": {
          "base_uri": "https://localhost:8080/",
          "height": 335
        },
        "id": "kGGWNc05fSBW",
        "outputId": "0447c754-2978-4f08-85c0-133fec4c0c72"
      },
      "outputs": [
        {
          "data": {
            "text/html": [
              "<div>\n",
              "<style scoped>\n",
              "    .dataframe tbody tr th:only-of-type {\n",
              "        vertical-align: middle;\n",
              "    }\n",
              "\n",
              "    .dataframe tbody tr th {\n",
              "        vertical-align: top;\n",
              "    }\n",
              "\n",
              "    .dataframe thead th {\n",
              "        text-align: right;\n",
              "    }\n",
              "</style>\n",
              "<table border=\"1\" class=\"dataframe\">\n",
              "  <thead>\n",
              "    <tr style=\"text-align: right;\">\n",
              "      <th></th>\n",
              "      <th>count</th>\n",
              "    </tr>\n",
              "    <tr>\n",
              "      <th>meter</th>\n",
              "      <th></th>\n",
              "    </tr>\n",
              "  </thead>\n",
              "  <tbody>\n",
              "    <tr>\n",
              "      <th>iambos</th>\n",
              "      <td>118315</td>\n",
              "    </tr>\n",
              "    <tr>\n",
              "      <th>choreios</th>\n",
              "      <td>28635</td>\n",
              "    </tr>\n",
              "    <tr>\n",
              "      <th>dolnik3</th>\n",
              "      <td>13789</td>\n",
              "    </tr>\n",
              "    <tr>\n",
              "      <th>amphibrachys</th>\n",
              "      <td>8607</td>\n",
              "    </tr>\n",
              "    <tr>\n",
              "      <th>anapaistos</th>\n",
              "      <td>7905</td>\n",
              "    </tr>\n",
              "    <tr>\n",
              "      <th>daktylos</th>\n",
              "      <td>5168</td>\n",
              "    </tr>\n",
              "    <tr>\n",
              "      <th>dolnik2</th>\n",
              "      <td>484</td>\n",
              "    </tr>\n",
              "  </tbody>\n",
              "</table>\n",
              "</div><br><label><b>dtype:</b> int64</label>"
            ],
            "text/plain": [
              "meter\n",
              "iambos          118315\n",
              "choreios         28635\n",
              "dolnik3          13789\n",
              "amphibrachys      8607\n",
              "anapaistos        7905\n",
              "daktylos          5168\n",
              "dolnik2            484\n",
              "Name: count, dtype: int64"
            ]
          },
          "execution_count": 4,
          "metadata": {},
          "output_type": "execute_result"
        }
      ],
      "source": [
        "df['meter'].value_counts()"
      ]
    },
    {
      "cell_type": "markdown",
      "metadata": {
        "id": "6vq6E3Jx2KNR"
      },
      "source": [
        "## Creating the train, test and pretrain subset"
      ]
    },
    {
      "cell_type": "code",
      "execution_count": null,
      "metadata": {
        "colab": {
          "base_uri": "https://localhost:8080/",
          "height": 423
        },
        "id": "tY6PC8yE2NVb",
        "outputId": "2d8cf45e-4de2-4a12-9e60-22d86fa98b12"
      },
      "outputs": [
        {
          "data": {
            "text/html": [
              "<div>\n",
              "<style scoped>\n",
              "    .dataframe tbody tr th:only-of-type {\n",
              "        vertical-align: middle;\n",
              "    }\n",
              "\n",
              "    .dataframe tbody tr th {\n",
              "        vertical-align: top;\n",
              "    }\n",
              "\n",
              "    .dataframe thead th {\n",
              "        text-align: right;\n",
              "    }\n",
              "</style>\n",
              "<table border=\"1\" class=\"dataframe\">\n",
              "  <thead>\n",
              "    <tr style=\"text-align: right;\">\n",
              "      <th></th>\n",
              "      <th>index_stanzas</th>\n",
              "      <th>stanzas</th>\n",
              "      <th>rhyme_scheme</th>\n",
              "      <th>index_poem</th>\n",
              "      <th>meter</th>\n",
              "    </tr>\n",
              "  </thead>\n",
              "  <tbody>\n",
              "    <tr>\n",
              "      <th>0</th>\n",
              "      <td>105822</td>\n",
              "      <td>['Бегите жесткого стечения согласных', 'И мере...</td>\n",
              "      <td>AABB</td>\n",
              "      <td>28320</td>\n",
              "      <td>iambos</td>\n",
              "    </tr>\n",
              "    <tr>\n",
              "      <th>1</th>\n",
              "      <td>106490</td>\n",
              "      <td>['И пал раскат их, аки тлен;', 'Румянцев громы...</td>\n",
              "      <td>ABBA</td>\n",
              "      <td>28417</td>\n",
              "      <td>iambos</td>\n",
              "    </tr>\n",
              "    <tr>\n",
              "      <th>2</th>\n",
              "      <td>174563</td>\n",
              "      <td>['Ведь после мучительных вычислений', 'В итоге...</td>\n",
              "      <td>ABAB</td>\n",
              "      <td>44239</td>\n",
              "      <td>dolnik3</td>\n",
              "    </tr>\n",
              "    <tr>\n",
              "      <th>3</th>\n",
              "      <td>102275</td>\n",
              "      <td>['Пока под снегом дремлют зерна,', 'Земля до п...</td>\n",
              "      <td>ABBA</td>\n",
              "      <td>27989</td>\n",
              "      <td>iambos</td>\n",
              "    </tr>\n",
              "    <tr>\n",
              "      <th>4</th>\n",
              "      <td>53763</td>\n",
              "      <td>['И счастие еще, коль, голос он подавши', 'И г...</td>\n",
              "      <td>AABB</td>\n",
              "      <td>16100</td>\n",
              "      <td>iambos</td>\n",
              "    </tr>\n",
              "    <tr>\n",
              "      <th>...</th>\n",
              "      <td>...</td>\n",
              "      <td>...</td>\n",
              "      <td>...</td>\n",
              "      <td>...</td>\n",
              "      <td>...</td>\n",
              "    </tr>\n",
              "    <tr>\n",
              "      <th>182898</th>\n",
              "      <td>42626</td>\n",
              "      <td>['Но ты красою ненаглядной', 'Еще томиться мне...</td>\n",
              "      <td>ABAB</td>\n",
              "      <td>13024</td>\n",
              "      <td>iambos</td>\n",
              "    </tr>\n",
              "    <tr>\n",
              "      <th>182899</th>\n",
              "      <td>63631</td>\n",
              "      <td>['В палящий зной, в песке сыпучем по колени,',...</td>\n",
              "      <td>ABBA</td>\n",
              "      <td>18837</td>\n",
              "      <td>iambos</td>\n",
              "    </tr>\n",
              "    <tr>\n",
              "      <th>182900</th>\n",
              "      <td>100982</td>\n",
              "      <td>['Сливаясь в густых облаках', 'В немолчное, гр...</td>\n",
              "      <td>ABAB</td>\n",
              "      <td>27629</td>\n",
              "      <td>amphibrachys</td>\n",
              "    </tr>\n",
              "    <tr>\n",
              "      <th>182901</th>\n",
              "      <td>52553</td>\n",
              "      <td>['А у него мечта одна --', 'Убить огромного сл...</td>\n",
              "      <td>AABB</td>\n",
              "      <td>15749</td>\n",
              "      <td>iambos</td>\n",
              "    </tr>\n",
              "    <tr>\n",
              "      <th>182902</th>\n",
              "      <td>133106</td>\n",
              "      <td>['Велит мне жертвой быть,', 'Томиться, слезы л...</td>\n",
              "      <td>AABB</td>\n",
              "      <td>33299</td>\n",
              "      <td>iambos</td>\n",
              "    </tr>\n",
              "  </tbody>\n",
              "</table>\n",
              "<p>182903 rows × 5 columns</p>\n",
              "</div>"
            ],
            "text/plain": [
              "        index_stanzas                                            stanzas  \\\n",
              "0              105822  ['Бегите жесткого стечения согласных', 'И мере...   \n",
              "1              106490  ['И пал раскат их, аки тлен;', 'Румянцев громы...   \n",
              "2              174563  ['Ведь после мучительных вычислений', 'В итоге...   \n",
              "3              102275  ['Пока под снегом дремлют зерна,', 'Земля до п...   \n",
              "4               53763  ['И счастие еще, коль, голос он подавши', 'И г...   \n",
              "...               ...                                                ...   \n",
              "182898          42626  ['Но ты красою ненаглядной', 'Еще томиться мне...   \n",
              "182899          63631  ['В палящий зной, в песке сыпучем по колени,',...   \n",
              "182900         100982  ['Сливаясь в густых облаках', 'В немолчное, гр...   \n",
              "182901          52553  ['А у него мечта одна --', 'Убить огромного сл...   \n",
              "182902         133106  ['Велит мне жертвой быть,', 'Томиться, слезы л...   \n",
              "\n",
              "       rhyme_scheme  index_poem         meter  \n",
              "0              AABB       28320        iambos  \n",
              "1              ABBA       28417        iambos  \n",
              "2              ABAB       44239       dolnik3  \n",
              "3              ABBA       27989        iambos  \n",
              "4              AABB       16100        iambos  \n",
              "...             ...         ...           ...  \n",
              "182898         ABAB       13024        iambos  \n",
              "182899         ABBA       18837        iambos  \n",
              "182900         ABAB       27629  amphibrachys  \n",
              "182901         AABB       15749        iambos  \n",
              "182902         AABB       33299        iambos  \n",
              "\n",
              "[182903 rows x 5 columns]"
            ]
          },
          "execution_count": 1,
          "metadata": {},
          "output_type": "execute_result"
        }
      ],
      "source": [
        "import pandas as pd\n",
        "\n",
        "df = pd.read_csv('all_stanzas.csv')\n",
        "df"
      ]
    },
    {
      "cell_type": "code",
      "execution_count": null,
      "metadata": {},
      "outputs": [],
      "source": [
        "df.iloc[:1000].to_csv(f'testset.csv')\n",
        "df.iloc[1000:11000].to_csv(f'trainset.csv')"
      ]
    },
    {
      "cell_type": "code",
      "execution_count": null,
      "metadata": {
        "colab": {
          "base_uri": "https://localhost:8080/"
        },
        "id": "uXSFTG2v4fal",
        "outputId": "8bb79f6f-5324-4914-fc21-1f4f30aec75e"
      },
      "outputs": [
        {
          "name": "stdout",
          "output_type": "stream",
          "text": [
            "0 34380\n",
            "34380 68760\n",
            "68760 103140\n",
            "103140 137520\n",
            "137520 171903\n",
            "171903\n"
          ]
        }
      ],
      "source": [
        "df = df.iloc[11000:] \n",
        "n = 5\n",
        "sample_len = len(df) // n\n",
        "for i in range(n):\n",
        "    if i == n - 1:\n",
        "        print(i * sample_len, len(df))\n",
        "        df.iloc[i * sample_len:].to_csv(f'trainset_pretrain{i}.csv')\n",
        "        continue\n",
        "    print(i * sample_len, (i + 1) * sample_len)\n",
        "    df.iloc[i * sample_len:(i + 1) * sample_len].to_csv(f'trainset_pretrain{i}.csv')\n",
        "print(len(df))"
      ]
    },
    {
      "cell_type": "markdown",
      "metadata": {},
      "source": [
        "## Create stress markup"
      ]
    },
    {
      "cell_type": "markdown",
      "metadata": {},
      "source": [
        "For stress markup I used RussianPoetryScansionTool. This section creates column `stress_markup` with stress markup and cleanes stanzas from special simbols."
      ]
    },
    {
      "cell_type": "code",
      "execution_count": null,
      "metadata": {},
      "outputs": [],
      "source": [
        "%git clone https://github.com/Koziev/RussianPoetryScansionTool\n",
        "%cd RussianPoetryScansionTool\n",
        "%pip install .\n",
        "%cd .."
      ]
    },
    {
      "cell_type": "code",
      "execution_count": null,
      "metadata": {},
      "outputs": [
        {
          "name": "stderr",
          "output_type": "stream",
          "text": [
            "/usr/local/lib/python3.10/dist-packages/russian_scansion/accentuator.py:157: FutureWarning: You are using `torch.load` with `weights_only=False` (the current default value), which uses the default pickle module implicitly. It is possible to construct malicious pickle data which will execute arbitrary code during unpickling (See https://github.com/pytorch/pytorch/blob/main/SECURITY.md#untrusted-models for more details). In a future release, the default value for `weights_only` will be flipped to `True`. This limits the functions that could be executed during unpickling. Arbitrary objects will no longer be allowed to be loaded via this mode unless they are explicitly allowlisted by the user via `torch.serialization.add_safe_globals`. We recommend you start setting `weights_only=True` for any use case where you don't have full control of the loaded file. Please open an issue on GitHub for any issues related to this experimental feature.\n",
            "  self.model.load_state_dict(torch.load(model_filepath, map_location=self.device))\n"
          ]
        }
      ],
      "source": [
        "import pandas as pd\n",
        "import ast\n",
        "from tqdm.auto import tqdm\n",
        "import re\n",
        "\n",
        "import russian_scansion\n",
        "\n",
        "rpst = russian_scansion.create_rpst_instance('/kaggle/input/poetrystantiontool/models')\n",
        "rpst.max_words_per_line = 100\n",
        "\n",
        "VOWELS = \"аеёиоуыэюяАЕЁИОУЫЭЮЯ\"\n",
        "STRESS_PRIMARY = '\\u0301'  # acute\n",
        "STRESS_SECONDARY = '\\u0300'  # grave"
      ]
    },
    {
      "cell_type": "code",
      "execution_count": null,
      "metadata": {},
      "outputs": [],
      "source": [
        "def strip_diacritics(text):\n",
        "    return text.replace(STRESS_PRIMARY, '').replace(STRESS_SECONDARY, '')\n",
        "\n",
        "def find_stress_positions(word):\n",
        "    if not any(ch in VOWELS for ch in word):\n",
        "        return [], [], word, 0\n",
        "\n",
        "    primary = []\n",
        "    secondary = []\n",
        "\n",
        "    index = 0\n",
        "    for i, ch in enumerate(word):\n",
        "        if STRESS_PRIMARY == ch:\n",
        "            primary.append(index)\n",
        "        elif STRESS_SECONDARY == ch:\n",
        "            secondary.append(index)\n",
        "        elif ch in VOWELS:\n",
        "            index += 1\n",
        "\n",
        "    clean_word = strip_diacritics(word)\n",
        "    return primary, secondary, clean_word, index\n",
        "\n",
        "def annotate_text_with_stress(text, add_count):\n",
        "    '''For one line'''\n",
        "    result = []\n",
        "    max_i = 0\n",
        "\n",
        "    for token in text.split(' '):\n",
        "        if not token.strip():\n",
        "            result.append(token)\n",
        "            continue\n",
        "\n",
        "        subwords = token.split('-')\n",
        "        res_subwords = []\n",
        "\n",
        "        for sub in subwords:\n",
        "            primary, secondary, clean, count = find_stress_positions(sub)\n",
        "\n",
        "            if len(primary) > 2 or len(secondary) > 2:\n",
        "                print(f\"Слово '{sub}' имеет >2 ударения одного типа: primary={primary}, secondary={secondary}\")\n",
        "                \n",
        "            markers = [f\"<S{i}>\" for i in sorted(primary)]\n",
        "            markers += [f\"<s{i}>\" for i in sorted(secondary)]\n",
        "            if add_count and count != 0:\n",
        "                markers += [f\"<count{count}>\"]\n",
        "            max_i = max(max_i, count)\n",
        "\n",
        "            if len(markers) == 0:\n",
        "                res_subwords.append(clean)\n",
        "            else:\n",
        "                res_subwords.append(' '.join([''.join(markers), clean]))\n",
        "\n",
        "        result.append(' - '.join(res_subwords))\n",
        "\n",
        "    return ' '.join(result), max_i\n",
        "\n",
        "def get_fotratted_stressed_lines(line):\n",
        "    scansion = rpst.align(line)\n",
        "    lines = scansion.get_stressed_lines(show_secondary_accentuation=True).split('\\n')\n",
        "    result = []\n",
        "    all_max_i = 0\n",
        "    for line in lines:\n",
        "        res_line, max_i = annotate_text_with_stress(line, True)\n",
        "        result.append(res_line)\n",
        "        all_max_i = max(all_max_i, max_i)\n",
        "    return result, all_max_i\n",
        "\n",
        "def get_dataset_stress_markup(df):\n",
        "    result = []\n",
        "    all_max_i = 0\n",
        "    for i in tqdm(range(len((df)))):\n",
        "        row = df.iloc[i]\n",
        "        stanzas = ast.literal_eval(row['stanzas'])\n",
        "        markup, max_i = get_fotratted_stressed_lines(stanzas)\n",
        "        all_max_i = max(max_i, all_max_i)\n",
        "        result.append(markup)\n",
        "    print(f'maximun stressed i = {all_max_i}')\n",
        "    return result"
      ]
    },
    {
      "cell_type": "code",
      "execution_count": null,
      "metadata": {},
      "outputs": [],
      "source": [
        "def clean_text(text):\n",
        "    text = re.sub(r\"[^\\w\\s.,;:!?\\\"'«»()\\[\\]\\-–—…]\", \"\", text)\n",
        "    return text"
      ]
    },
    {
      "cell_type": "code",
      "execution_count": null,
      "metadata": {},
      "outputs": [],
      "source": [
        "df = pd.read_csv('testset.csv', index_col=0)\n",
        "df['stanzas'] = df['stanzas'].apply(clean_text)\n",
        "df['stress_markup'] = get_dataset_stress_markup(df)\n",
        "df.to_csv('testset.csv')\n",
        "df"
      ]
    },
    {
      "cell_type": "code",
      "execution_count": null,
      "metadata": {},
      "outputs": [],
      "source": [
        "df = pd.read_csv('trainset.csv', index_col=0)\n",
        "df['stanzas'] = df['stanzas'].apply(clean_text)\n",
        "df['stress_markup'] = get_dataset_stress_markup(df)\n",
        "df.to_csv('trainset.csv')\n",
        "df  "
      ]
    },
    {
      "cell_type": "code",
      "execution_count": null,
      "metadata": {},
      "outputs": [],
      "source": [
        "for i in range(5):\n",
        "    df = pd.read_csv(f'/kaggle/input/project-poetry-dataset/trainset_pretrain{i}.csv', index_col=0)\n",
        "    df['stanzas'] = df['stanzas'].apply(clean_text)\n",
        "    df['stress_markup'] = get_dataset_stress_markup(df)  \n",
        "    df.to_csv(f'trainset_pretrain{i}.csv')     \n",
        "df        "
      ]
    },
    {
      "cell_type": "markdown",
      "metadata": {
        "id": "Q-XN0Nn-CC8h"
      },
      "source": [
        "## Adding rhyme markup"
      ]
    },
    {
      "cell_type": "markdown",
      "metadata": {},
      "source": [
        "This section adds rhyme and stress_rhyme markups in columns `rhyme_markup` and `rhyme_stress_markup`."
      ]
    },
    {
      "cell_type": "code",
      "execution_count": null,
      "metadata": {
        "colab": {
          "base_uri": "https://localhost:8080/"
        },
        "id": "pmdiK1j5CDJV",
        "outputId": "808da229-1837-40a5-81d7-03038e3655a7"
      },
      "outputs": [],
      "source": [
        "%pip install pyphen"
      ]
    },
    {
      "cell_type": "code",
      "execution_count": null,
      "metadata": {
        "colab": {
          "base_uri": "https://localhost:8080/"
        },
        "id": "F1Z5ajFhwV7A",
        "outputId": "738db568-5a4b-453d-876a-25b18c7e1712"
      },
      "outputs": [
        {
          "name": "stderr",
          "output_type": "stream",
          "text": [
            "[nltk_data] Downloading package punkt to /root/nltk_data...\n",
            "[nltk_data]   Unzipping tokenizers/punkt.zip.\n",
            "[nltk_data] Downloading package punkt_tab to /root/nltk_data...\n",
            "[nltk_data]   Unzipping tokenizers/punkt_tab.zip.\n"
          ]
        }
      ],
      "source": [
        "import nltk\n",
        "import pyphen\n",
        "import ast\n",
        "import re\n",
        "import string\n",
        "import pandas as pd\n",
        "\n",
        "nltk.download('punkt')\n",
        "nltk.download('punkt_tab')\n",
        "\n",
        "dic = pyphen.Pyphen(lang='ru')\n",
        "\n",
        "def extract_rhyme_key(word, min_syllables=2, use_all=False):\n",
        "    if use_all:\n",
        "        return word.lower()\n",
        "    syllables = dic.inserted(word).split('-')\n",
        "    if len(syllables) >= min_syllables:\n",
        "        return ''.join(syllables[-min_syllables:]).lower()\n",
        "    else:\n",
        "        return word.lower()\n",
        "\n",
        "def remove_punctuation(text):\n",
        "    return re.sub(rf\"[{re.escape(string.punctuation)}«»—…]\", \"\", text)\n",
        "\n",
        "def rhyme_markup(lines, rhyme_scheme, use_all):\n",
        "    \"\"\"\n",
        "    lines: list[str]\n",
        "    rhyme_scheme: str\n",
        "    use_all: bool - if true uses all last word and not the last the syllables\n",
        "    return: list[str] — lines with rhyme markup\n",
        "    \"\"\"\n",
        "    result = []\n",
        "    for i, line in enumerate(lines):\n",
        "        clean_line = remove_punctuation(line)\n",
        "        words = nltk.word_tokenize(clean_line, language=\"russian\")\n",
        "        if not words:\n",
        "            print('!!! not nltk words')\n",
        "            continue\n",
        "\n",
        "        last_word = words[-1]\n",
        "        rhyme_key = extract_rhyme_key(last_word, use_all=use_all)\n",
        "        rhyme_label = rhyme_scheme[i % len(rhyme_scheme)]\n",
        "\n",
        "        tag = f\"<rhyme{rhyme_label}>{rhyme_key}</rhyme{rhyme_label}> {line}\"\n",
        "        result.append(tag)\n",
        "    return result\n",
        "\n",
        "def get_dataset_rhyme_markup(df, use_all=False, col='stanzas'):\n",
        "    result = []\n",
        "    for i, row in df.iterrows():\n",
        "        stanzas = ast.literal_eval(row[col])\n",
        "        rhyme_scheme = row['rhyme_scheme']\n",
        "        markup = rhyme_markup(stanzas, rhyme_scheme, use_all)\n",
        "        result.append(markup)\n",
        "    return result"
      ]
    },
    {
      "cell_type": "code",
      "execution_count": null,
      "metadata": {
        "colab": {
          "base_uri": "https://localhost:8080/",
          "height": 1000
        },
        "id": "_K81Xx4DDWMS",
        "outputId": "f07c1d09-06d8-4630-e32e-86f964e30ef1"
      },
      "outputs": [],
      "source": [
        "df = pd.read_csv('testset.csv', index_col=0)\n",
        "df['rhyme_stress_markup'] = get_dataset_rhyme_markup(df, col='stress_markup')\n",
        "df['rhyme_markup'] = get_dataset_rhyme_markup(df)\n",
        "df.to_csv('testset.csv')\n",
        "df"
      ]
    },
    {
      "cell_type": "code",
      "execution_count": null,
      "metadata": {
        "colab": {
          "base_uri": "https://localhost:8080/",
          "height": 1000
        },
        "id": "ozL6qo3iFx93",
        "outputId": "07439d4d-9ffd-4e17-eec3-ee4bd4cbb7af"
      },
      "outputs": [],
      "source": [
        "df = pd.read_csv('trainset.csv', index_col=0)\n",
        "df['rhyme_stress_markup'] = get_dataset_rhyme_markup(df, col='stress_markup')\n",
        "df['rhyme_markup'] = get_dataset_rhyme_markup(df)\n",
        "df.to_csv('trainset.csv')\n",
        "df"
      ]
    },
    {
      "cell_type": "code",
      "execution_count": null,
      "metadata": {
        "colab": {
          "base_uri": "https://localhost:8080/",
          "height": 979
        },
        "id": "oIYORpDlHkJV",
        "outputId": "367a38a1-4d78-498e-c734-f30e348ee35c"
      },
      "outputs": [],
      "source": [
        "for i in range(5):\n",
        "    df = pd.read_csv(f'trainset_pretrain{i}.csv', index_col=0)\n",
        "    df['rhyme_stress_markup'] = get_dataset_rhyme_markup(df, col='stress_markup')\n",
        "    df['rhyme_markup'] = get_dataset_rhyme_markup(df)\n",
        "    df.to_csv(f'trainset_pretrain{i}.csv')\n",
        "df"
      ]
    }
  ],
  "metadata": {
    "colab": {
      "collapsed_sections": [
        "brDADHKz_XDt"
      ],
      "provenance": []
    },
    "kernelspec": {
      "display_name": ".venv",
      "language": "python",
      "name": "python3"
    },
    "language_info": {
      "codemirror_mode": {
        "name": "ipython",
        "version": 3
      },
      "file_extension": ".py",
      "mimetype": "text/x-python",
      "name": "python",
      "nbconvert_exporter": "python",
      "pygments_lexer": "ipython3",
      "version": "3.10.11"
    }
  },
  "nbformat": 4,
  "nbformat_minor": 0
}
