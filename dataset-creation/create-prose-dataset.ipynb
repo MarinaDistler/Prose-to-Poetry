{
 "cells": [
  {
   "cell_type": "markdown",
   "metadata": {},
   "source": [
    "# Creation of eval dataset of prose"
   ]
  },
  {
   "cell_type": "markdown",
   "metadata": {},
   "source": [
    "Creates `prosa_test_text.csv` file with prose test dataset."
   ]
  },
  {
   "cell_type": "code",
   "execution_count": null,
   "metadata": {},
   "outputs": [],
   "source": [
    "%pip install numpy pandas nltk"
   ]
  },
  {
   "cell_type": "code",
   "execution_count": 24,
   "metadata": {
    "_cell_guid": "b1076dfc-b9ad-4769-8c92-a6c4dae69d19",
    "_uuid": "8f2839f25d086af736a60e9eeb907d3b93b6e0e5",
    "execution": {
     "iopub.execute_input": "2025-05-19T12:56:04.540949Z",
     "iopub.status.busy": "2025-05-19T12:56:04.540561Z",
     "iopub.status.idle": "2025-05-19T12:56:06.363116Z",
     "shell.execute_reply": "2025-05-19T12:56:06.362083Z",
     "shell.execute_reply.started": "2025-05-19T12:56:04.540918Z"
    },
    "trusted": true
   },
   "outputs": [
    {
     "name": "stderr",
     "output_type": "stream",
     "text": [
      "[nltk_data] Downloading package punkt to\n",
      "[nltk_data]     C:\\Users\\Марина\\AppData\\Roaming\\nltk_data...\n",
      "[nltk_data]   Package punkt is already up-to-date!\n",
      "[nltk_data] Downloading package punkt_tab to\n",
      "[nltk_data]     C:\\Users\\Марина\\AppData\\Roaming\\nltk_data...\n",
      "[nltk_data]   Unzipping tokenizers\\punkt_tab.zip.\n"
     ]
    },
    {
     "data": {
      "text/plain": [
       "True"
      ]
     },
     "execution_count": 24,
     "metadata": {},
     "output_type": "execute_result"
    }
   ],
   "source": [
    "import numpy as np \n",
    "import pandas as pd \n",
    "import nltk\n",
    "from nltk.tokenize import sent_tokenize\n",
    "import os\n",
    "\n",
    "nltk.download('punkt')\n",
    "nltk.download('punkt_tab')"
   ]
  },
  {
   "cell_type": "markdown",
   "metadata": {},
   "source": [
    "To use this notebook download source dateset of Russian Literature from https://www.kaggle.com/datasets/d0rj3228/russian-literature as zip file. Then unzip it to './archive/'."
   ]
  },
  {
   "cell_type": "markdown",
   "metadata": {},
   "source": [
    "Functions for reading files and extracting chunks."
   ]
  },
  {
   "cell_type": "code",
   "execution_count": 25,
   "metadata": {
    "execution": {
     "iopub.execute_input": "2025-05-19T12:56:06.364861Z",
     "iopub.status.busy": "2025-05-19T12:56:06.364396Z",
     "iopub.status.idle": "2025-05-19T12:56:06.372058Z",
     "shell.execute_reply": "2025-05-19T12:56:06.370853Z",
     "shell.execute_reply.started": "2025-05-19T12:56:06.364830Z"
    },
    "trusted": true
   },
   "outputs": [],
   "source": [
    "def read_first(filename, count_lines):\n",
    "    lines = []\n",
    "    with open(filename, 'r', encoding='utf-8') as file:\n",
    "            for i, line in enumerate(file):\n",
    "                if i >= count_lines:\n",
    "                    break\n",
    "                lines.append(line.rstrip())  # Удаляем лишние символы новой строки\n",
    "    return lines\n",
    "\n",
    "def split_text_into_chunks(paragraphs, min_length=210, max_length=310):\n",
    "    chunks = []\n",
    "    for paragraph in paragraphs:\n",
    "        if not paragraph.strip():\n",
    "            continue\n",
    "        \n",
    "        sentences = sent_tokenize(paragraph.strip())\n",
    "\n",
    "        for sentence in sentences:\n",
    "            sentence = sentence.strip()\n",
    "            if len(sentence) <= max_length and len(sentence) >= min_length:\n",
    "                chunks.append(sentence)\n",
    "\n",
    "    return chunks"
   ]
  },
  {
   "cell_type": "markdown",
   "metadata": {},
   "source": [
    "Extracting chunks"
   ]
  },
  {
   "cell_type": "code",
   "execution_count": 26,
   "metadata": {
    "execution": {
     "iopub.execute_input": "2025-05-19T12:56:06.374281Z",
     "iopub.status.busy": "2025-05-19T12:56:06.373888Z",
     "iopub.status.idle": "2025-05-19T12:56:27.115340Z",
     "shell.execute_reply": "2025-05-19T12:56:27.114013Z",
     "shell.execute_reply.started": "2025-05-19T12:56:06.374233Z"
    },
    "trusted": true
   },
   "outputs": [],
   "source": [
    "chunks = {}\n",
    "chunks_long = {}\n",
    "for dirname, _, filenames in os.walk('./archive/prose/'):\n",
    "    chunks[dirname] = []\n",
    "    chunks_long[dirname] = []\n",
    "    for filename in filenames:\n",
    "        if filename.endswith('.txt'):\n",
    "            paragraphs = read_first(os.path.join(dirname, filename), count_lines=20000)\n",
    "            chunks[dirname].extend(split_text_into_chunks(paragraphs, min_length=100, max_length=140))"
   ]
  },
  {
   "cell_type": "code",
   "execution_count": 27,
   "metadata": {
    "execution": {
     "iopub.execute_input": "2025-05-19T12:56:27.117080Z",
     "iopub.status.busy": "2025-05-19T12:56:27.116767Z",
     "iopub.status.idle": "2025-05-19T12:56:27.122880Z",
     "shell.execute_reply": "2025-05-19T12:56:27.121630Z",
     "shell.execute_reply.started": "2025-05-19T12:56:27.117049Z"
    },
    "trusted": true
   },
   "outputs": [],
   "source": [
    "all_chunks = []\n",
    "for k, v in chunks.items():\n",
    "    all_chunks.extend(v)"
   ]
  },
  {
   "cell_type": "code",
   "execution_count": 28,
   "metadata": {
    "execution": {
     "iopub.execute_input": "2025-05-19T12:56:27.125026Z",
     "iopub.status.busy": "2025-05-19T12:56:27.124676Z",
     "iopub.status.idle": "2025-05-19T12:56:27.145324Z",
     "shell.execute_reply": "2025-05-19T12:56:27.144146Z",
     "shell.execute_reply.started": "2025-05-19T12:56:27.124998Z"
    },
    "trusted": true
   },
   "outputs": [
    {
     "data": {
      "text/plain": [
       "47396"
      ]
     },
     "execution_count": 28,
     "metadata": {},
     "output_type": "execute_result"
    }
   ],
   "source": [
    "len(all_chunks)"
   ]
  },
  {
   "cell_type": "markdown",
   "metadata": {},
   "source": [
    "Examples of chunks and their lens."
   ]
  },
  {
   "cell_type": "code",
   "execution_count": null,
   "metadata": {
    "execution": {
     "iopub.execute_input": "2025-05-19T12:56:27.147181Z",
     "iopub.status.busy": "2025-05-19T12:56:27.146900Z",
     "iopub.status.idle": "2025-05-19T12:56:27.168929Z",
     "shell.execute_reply": "2025-05-19T12:56:27.167696Z",
     "shell.execute_reply.started": "2025-05-19T12:56:27.147156Z"
    },
    "trusted": true
   },
   "outputs": [
    {
     "name": "stdout",
     "output_type": "stream",
     "text": [
      "Туристы влезают туда, крутят вверху носами, любуясь на виды, и лопочут дикие и ненужные речи об окрестных пейзажах на разноплеменных языках. 140\n",
      "Колесо приводит в движение поршень, тянущийся по полям и холмам, под железнодорожной насыпью на несколько километров. 117\n",
      "Жарко невыносимо, нивы наливаются, черешни краснеют по краям шоссе, никем не охраняемые, пирамидальные тополя в пыли. 117\n",
      "Ну, конечно, объясняются в любви и целуются на скамейках, пользуясь сном \"для здоровья\" благоразумных европейцев. 113\n",
      "И свидания над туманным озером еще больше нагоняют скуку, знаешь, что через месяц-два поплетешься по Невскому под мокрым снегом. 128\n",
      "Это - высокие стены, туго набитые хворостом; под ними - деревянные резервуары, куда, серебристо звякая, без устали падает жидкая соль. 134\n",
      "Они вдыхают соль ртами и носами и представляют комментарий к тексту: \"если соль потеряет свою силу, кто сделает ее соленою\". 124\n",
      "По крайней мере, судя по их позам, лицам, пиджакам и юбкам, думается, что никакая сила в мире не возвратит им их утраченную соль. 129\n",
      "Если наклониться во ржи, чувствуешь себя в России: небо синее, и колосья спутанные, и пробитая среди них тропа. 111\n",
      "Идешь мимо целебных ключей, где закупоривают бутылки и всюду виднеются надписи: Brunnen (источник (нем.)) 105\n"
     ]
    }
   ],
   "source": [
    "for chunk in all_chunks[:10]:\n",
    "    print(chunk, len(chunk))"
   ]
  },
  {
   "cell_type": "markdown",
   "metadata": {},
   "source": [
    "Saving as a csv file and adding meter and rhyme scheme."
   ]
  },
  {
   "cell_type": "code",
   "execution_count": 29,
   "metadata": {
    "execution": {
     "iopub.execute_input": "2025-05-19T12:56:27.170360Z",
     "iopub.status.busy": "2025-05-19T12:56:27.170015Z",
     "iopub.status.idle": "2025-05-19T12:56:27.240938Z",
     "shell.execute_reply": "2025-05-19T12:56:27.239884Z",
     "shell.execute_reply.started": "2025-05-19T12:56:27.170331Z"
    },
    "trusted": true
   },
   "outputs": [],
   "source": [
    "max_cap = 1000\n",
    "texts = np.random.choice(all_chunks, size=max_cap, replace=False)"
   ]
  },
  {
   "cell_type": "code",
   "execution_count": null,
   "metadata": {},
   "outputs": [
    {
     "data": {
      "text/html": [
       "<div>\n",
       "<style scoped>\n",
       "    .dataframe tbody tr th:only-of-type {\n",
       "        vertical-align: middle;\n",
       "    }\n",
       "\n",
       "    .dataframe tbody tr th {\n",
       "        vertical-align: top;\n",
       "    }\n",
       "\n",
       "    .dataframe thead th {\n",
       "        text-align: right;\n",
       "    }\n",
       "</style>\n",
       "<table border=\"1\" class=\"dataframe\">\n",
       "  <thead>\n",
       "    <tr style=\"text-align: right;\">\n",
       "      <th></th>\n",
       "      <th>text</th>\n",
       "      <th>rhyme_scheme</th>\n",
       "      <th>meter</th>\n",
       "    </tr>\n",
       "  </thead>\n",
       "  <tbody>\n",
       "    <tr>\n",
       "      <th>0</th>\n",
       "      <td>Та же история повторилась с одной саксонской с...</td>\n",
       "      <td>AABB</td>\n",
       "      <td>choreios</td>\n",
       "    </tr>\n",
       "    <tr>\n",
       "      <th>1</th>\n",
       "      <td>-- Ответьте сначала, -- сказал мне он, -- родс...</td>\n",
       "      <td>AABB</td>\n",
       "      <td>iambos</td>\n",
       "    </tr>\n",
       "    <tr>\n",
       "      <th>2</th>\n",
       "      <td>Хорошенькая просыпается, обводит глазами публи...</td>\n",
       "      <td>AABB</td>\n",
       "      <td>choreios</td>\n",
       "    </tr>\n",
       "    <tr>\n",
       "      <th>3</th>\n",
       "      <td>– Ах, милый князь, – воскликнул вдруг Евгений ...</td>\n",
       "      <td>AABB</td>\n",
       "      <td>iambos</td>\n",
       "    </tr>\n",
       "    <tr>\n",
       "      <th>4</th>\n",
       "      <td>Перед тем, как идти в гости, она завязала Лаев...</td>\n",
       "      <td>AABB</td>\n",
       "      <td>choreios</td>\n",
       "    </tr>\n",
       "    <tr>\n",
       "      <th>...</th>\n",
       "      <td>...</td>\n",
       "      <td>...</td>\n",
       "      <td>...</td>\n",
       "    </tr>\n",
       "    <tr>\n",
       "      <th>995</th>\n",
       "      <td>– Да, да… Я непременно хочу знать, что вы дела...</td>\n",
       "      <td>ABBA</td>\n",
       "      <td>iambos</td>\n",
       "    </tr>\n",
       "    <tr>\n",
       "      <th>996</th>\n",
       "      <td>\"За тобой пришел, красная девица; уводи ж меня...</td>\n",
       "      <td>ABBA</td>\n",
       "      <td>choreios</td>\n",
       "    </tr>\n",
       "    <tr>\n",
       "      <th>997</th>\n",
       "      <td>Потом, когда всунете войлок, вложите пулю, – с...</td>\n",
       "      <td>ABBA</td>\n",
       "      <td>iambos</td>\n",
       "    </tr>\n",
       "    <tr>\n",
       "      <th>998</th>\n",
       "      <td>Впрочем, в темноте трудно угадать направление ...</td>\n",
       "      <td>ABBA</td>\n",
       "      <td>choreios</td>\n",
       "    </tr>\n",
       "    <tr>\n",
       "      <th>999</th>\n",
       "      <td>К тому и пишу это, чтобы предостеречь вас, что...</td>\n",
       "      <td>ABBA</td>\n",
       "      <td>iambos</td>\n",
       "    </tr>\n",
       "  </tbody>\n",
       "</table>\n",
       "<p>1000 rows × 3 columns</p>\n",
       "</div>"
      ],
      "text/plain": [
       "                                                  text rhyme_scheme     meter\n",
       "0    Та же история повторилась с одной саксонской с...         AABB  choreios\n",
       "1    -- Ответьте сначала, -- сказал мне он, -- родс...         AABB    iambos\n",
       "2    Хорошенькая просыпается, обводит глазами публи...         AABB  choreios\n",
       "3    – Ах, милый князь, – воскликнул вдруг Евгений ...         AABB    iambos\n",
       "4    Перед тем, как идти в гости, она завязала Лаев...         AABB  choreios\n",
       "..                                                 ...          ...       ...\n",
       "995  – Да, да… Я непременно хочу знать, что вы дела...         ABBA    iambos\n",
       "996  \"За тобой пришел, красная девица; уводи ж меня...         ABBA  choreios\n",
       "997  Потом, когда всунете войлок, вложите пулю, – с...         ABBA    iambos\n",
       "998  Впрочем, в темноте трудно угадать направление ...         ABBA  choreios\n",
       "999  К тому и пишу это, чтобы предостеречь вас, что...         ABBA    iambos\n",
       "\n",
       "[1000 rows x 3 columns]"
      ]
     },
     "execution_count": 32,
     "metadata": {},
     "output_type": "execute_result"
    }
   ],
   "source": [
    "df = pd.DataFrame({'text': texts,\n",
    "                   'rhyme_scheme': ['AABB'] * 333 + ['ABAB'] * 333 + ['ABBA'] * 334,})\n",
    "df.loc[::2, 'meter'] = 'choreios'\n",
    "df.loc[1::2, 'meter'] = 'iambos'\n",
    "df.to_csv('prosa_test_text.csv', index=False)\n",
    "df"
   ]
  }
 ],
 "metadata": {
  "accelerator": "GPU",
  "colab": {
   "collapsed_sections": [
    "brDADHKz_XDt"
   ],
   "gpuType": "T4",
   "provenance": []
  },
  "kaggle": {
   "accelerator": "none",
   "dataSources": [
    {
     "databundleVersionId": 12596647,
     "datasetId": 7598256,
     "sourceId": 12070963,
     "sourceType": "datasetVersion"
    },
    {
     "databundleVersionId": 12713478,
     "datasetId": 6587179,
     "sourceId": 12176384,
     "sourceType": "datasetVersion"
    },
    {
     "databundleVersionId": 12640742,
     "datasetId": 7600331,
     "sourceId": 12110653,
     "sourceType": "datasetVersion"
    },
    {
     "databundleVersionId": 4762690,
     "datasetId": 1005110,
     "sourceId": 4700251,
     "sourceType": "datasetVersion"
    },
    {
     "databundleVersionId": 10997996,
     "datasetId": 6586210,
     "sourceId": 10654991,
     "sourceType": "datasetVersion"
    }
   ],
   "dockerImageVersionId": 30822,
   "isGpuEnabled": false,
   "isInternetEnabled": true,
   "language": "python",
   "sourceType": "notebook"
  },
  "kernelspec": {
   "display_name": ".venv",
   "language": "python",
   "name": "python3"
  },
  "language_info": {
   "codemirror_mode": {
    "name": "ipython",
    "version": 3
   },
   "file_extension": ".py",
   "mimetype": "text/x-python",
   "name": "python",
   "nbconvert_exporter": "python",
   "pygments_lexer": "ipython3",
   "version": "3.10.11"
  }
 },
 "nbformat": 4,
 "nbformat_minor": 4
}
