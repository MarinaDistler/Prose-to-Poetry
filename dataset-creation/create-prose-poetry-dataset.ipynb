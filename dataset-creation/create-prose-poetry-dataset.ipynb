{
  "cells": [
    {
      "cell_type": "markdown",
      "metadata": {
        "id": "6m6uXlto6moZ"
      },
      "source": [
        "# Using Gemini and GigaChat and creation of prose dataset"
      ]
    },
    {
      "cell_type": "markdown",
      "metadata": {},
      "source": [
        "In this notebook you can see the code for evaluation Gigachat and Gemini and creation of prose-to-poetry dataset "
      ]
    },
    {
      "cell_type": "markdown",
      "metadata": {},
      "source": [
        "## General functions and imports"
      ]
    },
    {
      "cell_type": "code",
      "execution_count": null,
      "metadata": {
        "id": "LqOmUQ0T6FuP"
      },
      "outputs": [],
      "source": [
        "from time import sleep\n",
        "import pandas as pd\n",
        "\n",
        "system_instruction = '''Вы – талантливый поэт, создающий русскую поэзию. При преобразовании прозы в стихотворение соблюдайте следующие правила:\\n''' \\\n",
        "                    '''1. Рифмовка: используйте заданную схему рифм.\\n''' \\\n",
        "                    '''2. Размер: пишите в указанном метре и соблюдайте структуру чередования ударных и безударных слогов.\\n''' \\\n",
        "                    '''3. Объём: стихотворение должно содержать ровно 4 строки.\\n''' \\\n",
        "                    '''4. Содержание: сохраняйте ключевые образы, эмоции, детали описаний и действия из исходного текста.\\n''' \\\n",
        "                    '''5. Выразительность: сделайте текст поэтичным и насыщенным.\\n''' \\\n",
        "                    '''6. Формат: в ответе должно быть исключительно само стихотворение без комментариев.\\n'''\n",
        "\n",
        "system_instruction_generate = '''Вы – талантливый поэт, создающий русскую поэзию. При написании стихотворения соблюдайте следующие правила:\\n''' \\\n",
        "                    '''1. Рифмовка: используйте заданную схему рифм.\\n''' \\\n",
        "                    '''2. Размер: пишите в указанном метре и соблюдайте структуру чередования ударных и безударных слогов.\\n''' \\\n",
        "                    '''3. Объём: стихотворение должно содержать ровно 4 строки.\\n''' \\\n",
        "                    '''5. Выразительность: сделайте текст поэтичным и насыщенным.\\n''' \\\n",
        "                    '''6. Формат: в ответе должно быть исключительно само стихотворение без комментариев.\\n'''\n",
        "\n",
        "system_instruction_inv = '''Вы – профессиональный литературный редактор, специалист по адаптации русской поэзии в художественную прозу. Преобразуйте данное стихотворение в прозаический текст, соблюдая следующие правила:\\n''' \\\n",
        "        '''1. Сохранение смысла: передайте основное содержание, образы, идеи и настроение стихотворения.\\n''' \\\n",
        "        '''2. Объём: длина полученного текста должна соответствовать объёму исходного стихотворения.\\n''' \\\n",
        "        '''3. Грамотная стилистика: используйте литературный язык, избегая слишком сухого или официального тона.\\n''' \\\n",
        "        '''4. Связность и плавность: стройте текст логично и последовательно, обеспечивая естественный поток мысли.\\n''' \\\n",
        "        '''5. Передача эмоций: сохраняйте эмоциональную окраску, экспрессию и художественные детали оригинала.\\n''' \\\n",
        "        '''6. Избегание ритма и рифмы: уберите поэтические конструкции, но при необходимости используйте выразительные средства прозы (метафоры, эпитеты и т. д.).\\n''' \\\n",
        "        '''7. Формат: в ответе должно быть исключительно результат без комментариев.\\n'''\n",
        "\n",
        "meters = {\n",
        "    'ямб': 'ямбический - чередуются ударные и безударные слоги, первый слог строки безударный',\n",
        "    'iambos': 'ямбический - чередуются ударные и безударные слоги, первый слог строки безударный',\n",
        "    'choreios': 'хорей - чередуются ударные и безударные слоги, первый слог строки ударный',\n",
        "    'dolnik3': 'дольник - стихотворный размер с переменным количеством безударных слогов между ударными',\n",
        "    'amphibrachys': 'амфибрахий - трехсложный размер, где ударение падает на второй слог',\n",
        "    'anapaistos': 'анапест - трехсложный размер, где ударение падает на третий слог',\n",
        "    'daktylos': 'дактиль - трехсложный размер, где ударение падает на первый слог',\n",
        "    'dolnik2': 'дольник - стихотворный размер с переменным количеством безударных слогов между ударными',\n",
        "}\n",
        "\n",
        "def get_prompt(text, scheme='ABAB', meter='ямб'):\n",
        "    if text is None:\n",
        "        return f'''Напиши четверостишие с параметрами:\\n Рифмовка: {scheme}\\n Размер: {meters[meter]}\\n'''\n",
        "    return f'''Преобразуй прозу в четверостишие с параметрами:\\n Рифмовка: {scheme}\\n Размер: {meters[meter]}\\n Исходный текст: {text}'''\n"
      ]
    },
    {
      "cell_type": "code",
      "execution_count": null,
      "metadata": {
        "id": "21ndRoSM_jHh"
      },
      "outputs": [],
      "source": [
        "import ast\n",
        "\n",
        "def use_model_batch(func, texts, from_id=0):\n",
        "    answers = {}\n",
        "    for i, (id, text) in enumerate(texts.items()):\n",
        "        if i // 15 < from_id:\n",
        "            continue\n",
        "        if i % 15 == 0 and len(answers) != 0:\n",
        "            yield pd.Series(answers)\n",
        "            answers = {}\n",
        "        answers[id] = func(text)\n",
        "    if len(answers) != 0:\n",
        "        yield pd.Series(answers)\n",
        "\n",
        "def generate_model_answers(model_func, file_path='test_text.txt', from_id=0, from_index=0, to_index=-1):\n",
        "    inputs = {}\n",
        "    with open(file_path, 'r') as file:\n",
        "        for i, line in enumerate(file.readlines()):\n",
        "            if i >= from_index and (i < to_index or to_index == -1):\n",
        "                inputs[i] = line\n",
        "    answers = []\n",
        "    i = from_id\n",
        "    for answer in use_model_batch(model_func, inputs, from_id=from_id):\n",
        "        answer.to_csv(f'answers{i}.txt')\n",
        "        answers.append(answer)\n",
        "        print(i)\n",
        "        i += 1\n",
        "    return pd.concat(answers)\n",
        "\n",
        "def test_model(model_func, file_path='prosa_test_text.csv', from_id=0):\n",
        "    inputs = {}\n",
        "    df = pd.read_csv(file_path)\n",
        "    for index, row in df.iterrows():\n",
        "        inputs[index] = row\n",
        "    answers = []\n",
        "    i = from_id\n",
        "    for answer in use_model_batch(model_func, inputs, from_id=from_id):\n",
        "        answer.to_csv(f'answers{i}.txt')\n",
        "        answers.append(answer)\n",
        "        print(i)\n",
        "        i += 1\n",
        "    return pd.concat(answers)\n",
        "\n",
        "def generate_model_answers_inv(model_func, file_path='stanzas_test.csv', from_id=0, from_index=0, to_index=-1):\n",
        "    inputs = {}\n",
        "    df = pd.read_csv(file_path)\n",
        "    for index, row in df.iterrows():\n",
        "        st = ast.literal_eval(row['stanzas'])\n",
        "        if index >= from_index and (index < to_index or to_index == -1):\n",
        "            inputs[index] = '\\n'.join(st)\n",
        "    answers = []\n",
        "    i = from_id\n",
        "    for answer in use_model_batch(model_func, inputs, from_id=from_id):\n",
        "        answer.to_csv(f'answers{i}.txt')\n",
        "        answers.append(answer)\n",
        "        print(i)\n",
        "        i += 1\n",
        "    return pd.concat(answers)"
      ]
    },
    {
      "cell_type": "markdown",
      "metadata": {
        "id": "NIsfM3Vt_b4A"
      },
      "source": [
        "## Configuring"
      ]
    },
    {
      "cell_type": "markdown",
      "metadata": {},
      "source": [
        "### Gemini"
      ]
    },
    {
      "cell_type": "markdown",
      "metadata": {},
      "source": [
        "Configuring of Gemini API. Use yor API key instead of `your_key`."
      ]
    },
    {
      "cell_type": "code",
      "execution_count": null,
      "metadata": {
        "id": "gfpPwzOiROkM"
      },
      "outputs": [],
      "source": [
        "%pip install -q -U google-generativeai"
      ]
    },
    {
      "cell_type": "code",
      "execution_count": null,
      "metadata": {},
      "outputs": [],
      "source": [
        "import google.generativeai as genai\n",
        "\n",
        "genai.configure(api_key=\"your_key\")"
      ]
    },
    {
      "cell_type": "markdown",
      "metadata": {},
      "source": [
        "### Gigachat"
      ]
    },
    {
      "cell_type": "markdown",
      "metadata": {},
      "source": [
        "Configuring Gigachat API. Use your token instead of `your_token` in `Authorization`."
      ]
    },
    {
      "cell_type": "code",
      "execution_count": null,
      "metadata": {},
      "outputs": [
        {
          "name": "stdout",
          "output_type": "stream",
          "text": [
            "  % Total    % Received % Xferd  Average Speed   Time    Time     Time  Current\n",
            "                                 Dload  Upload   Total   Spent    Left  Speed\n",
            "100  2088    0  2088    0     0   1701      0 --:--:--  0:00:01 --:--:--  1701\n"
          ]
        }
      ],
      "source": [
        "!curl -k \"https://gu-st.ru/content/Other/doc/russian_trusted_root_ca.cer\" -w \"\\n\" >> russian_trusted_root_ca.cer"
      ]
    },
    {
      "cell_type": "code",
      "execution_count": null,
      "metadata": {},
      "outputs": [],
      "source": [
        "import requests\n",
        "import uuid\n",
        "import json\n",
        "\n",
        "def get_access_token():\n",
        "    url = \"https://ngw.devices.sberbank.ru:9443/api/v2/oauth\"\n",
        "\n",
        "    payload='scope=GIGACHAT_API_PERS'\n",
        "    # Создание случайного UUID\n",
        "    random_uuid = uuid.uuid4()\n",
        "    headers = {\n",
        "        'Content-Type': 'application/x-www-form-urlencoded',\n",
        "        'Accept': 'application/json',\n",
        "        'RqUID': str(random_uuid),\n",
        "        'Authorization': 'Basic your_token'\n",
        "    }\n",
        "\n",
        "    response = requests.request(\"POST\", url, headers=headers, data=payload, verify='russian_trusted_root_ca.cer')\n",
        "    return response.json()[\"access_token\"]\n",
        "\n",
        "access_token = get_access_token()"
      ]
    },
    {
      "cell_type": "markdown",
      "metadata": {},
      "source": [
        "Check available models."
      ]
    },
    {
      "cell_type": "code",
      "execution_count": null,
      "metadata": {},
      "outputs": [
        {
          "data": {
            "text/plain": [
              "{'object': 'list',\n",
              " 'data': [{'id': 'GigaChat',\n",
              "   'object': 'model',\n",
              "   'owned_by': 'salutedevices',\n",
              "   'type': 'chat'},\n",
              "  {'id': 'GigaChat-2',\n",
              "   'object': 'model',\n",
              "   'owned_by': 'salutedevices',\n",
              "   'type': 'chat'},\n",
              "  {'id': 'GigaChat-2-Max',\n",
              "   'object': 'model',\n",
              "   'owned_by': 'salutedevices',\n",
              "   'type': 'chat'},\n",
              "  {'id': 'GigaChat-2-Max-preview',\n",
              "   'object': 'model',\n",
              "   'owned_by': 'salutedevices',\n",
              "   'type': 'chat'},\n",
              "  {'id': 'GigaChat-2-Pro',\n",
              "   'object': 'model',\n",
              "   'owned_by': 'salutedevices',\n",
              "   'type': 'chat'},\n",
              "  {'id': 'GigaChat-2-Pro-preview',\n",
              "   'object': 'model',\n",
              "   'owned_by': 'salutedevices',\n",
              "   'type': 'chat'},\n",
              "  {'id': 'GigaChat-2-preview',\n",
              "   'object': 'model',\n",
              "   'owned_by': 'salutedevices',\n",
              "   'type': 'chat'},\n",
              "  {'id': 'GigaChat-Max',\n",
              "   'object': 'model',\n",
              "   'owned_by': 'salutedevices',\n",
              "   'type': 'chat'},\n",
              "  {'id': 'GigaChat-Max-preview',\n",
              "   'object': 'model',\n",
              "   'owned_by': 'salutedevices',\n",
              "   'type': 'chat'},\n",
              "  {'id': 'GigaChat-Plus',\n",
              "   'object': 'model',\n",
              "   'owned_by': 'salutedevices',\n",
              "   'type': 'chat'},\n",
              "  {'id': 'GigaChat-Plus-preview',\n",
              "   'object': 'model',\n",
              "   'owned_by': 'salutedevices',\n",
              "   'type': 'chat'},\n",
              "  {'id': 'GigaChat-Pro',\n",
              "   'object': 'model',\n",
              "   'owned_by': 'salutedevices',\n",
              "   'type': 'chat'},\n",
              "  {'id': 'GigaChat-Pro-preview',\n",
              "   'object': 'model',\n",
              "   'owned_by': 'salutedevices',\n",
              "   'type': 'chat'},\n",
              "  {'id': 'GigaChat-preview',\n",
              "   'object': 'model',\n",
              "   'owned_by': 'salutedevices',\n",
              "   'type': 'chat'},\n",
              "  {'id': 'Embeddings',\n",
              "   'object': 'model',\n",
              "   'owned_by': 'salutedevices',\n",
              "   'type': 'embedder'},\n",
              "  {'id': 'Embeddings-2',\n",
              "   'object': 'model',\n",
              "   'owned_by': 'salutedevices',\n",
              "   'type': 'embedder'},\n",
              "  {'id': 'EmbeddingsGigaR',\n",
              "   'object': 'model',\n",
              "   'owned_by': 'salutedevices',\n",
              "   'type': 'embedder'}]}"
            ]
          },
          "metadata": {},
          "output_type": "display_data"
        }
      ],
      "source": [
        "url = \"https://gigachat.devices.sberbank.ru/api/v1/models\"\n",
        "\n",
        "payload={}\n",
        "headers = {\n",
        "  'Accept': 'application/json',\n",
        "  'Authorization': f'Bearer {access_token}'\n",
        "}\n",
        "\n",
        "response = requests.request(\"GET\", url, headers=headers, data=payload, verify='russian_trusted_root_ca.cer')\n",
        "\n",
        "response.json()"
      ]
    },
    {
      "cell_type": "markdown",
      "metadata": {},
      "source": [
        "## Evaluation"
      ]
    },
    {
      "cell_type": "markdown",
      "metadata": {},
      "source": [
        "### Gemini"
      ]
    },
    {
      "cell_type": "markdown",
      "metadata": {},
      "source": [
        "This code evaluates Gemini-2.0-Flash on `prosa_test_text.csv` file."
      ]
    },
    {
      "cell_type": "code",
      "execution_count": null,
      "metadata": {
        "id": "ZyowwboRRE6W"
      },
      "outputs": [],
      "source": [
        "def use_gemini_row(row):\n",
        "    while True:\n",
        "        try:\n",
        "            model = genai.GenerativeModel(\n",
        "                        model_name=\"gemini-2.0-flash\",\n",
        "                        system_instruction=system_instruction)\n",
        "            response = model.generate_content(get_prompt(row['text'], row['rhyme_scheme'], row['meter']))\n",
        "            return response.text\n",
        "        except:\n",
        "            print('error')\n",
        "            sleep(30)"
      ]
    },
    {
      "cell_type": "code",
      "execution_count": null,
      "metadata": {
        "colab": {
          "base_uri": "https://localhost:8080/",
          "height": 1000
        },
        "id": "6x4AM9DX5t94",
        "outputId": "691da729-f9aa-4d41-e2b5-2f73aae60ceb"
      },
      "outputs": [],
      "source": [
        "answers = test_model(use_gemini_row, file_path='prosa_test_text.csv', from_id=0)\n",
        "answers.to_csv('gemini.csv', index=False)"
      ]
    },
    {
      "cell_type": "markdown",
      "metadata": {},
      "source": [
        "### Gigachat"
      ]
    },
    {
      "cell_type": "markdown",
      "metadata": {},
      "source": [
        "Evaluate Gigachat on file `prosa_test_text.csv`."
      ]
    },
    {
      "cell_type": "code",
      "execution_count": null,
      "metadata": {},
      "outputs": [],
      "source": [
        "url = \"https://gigachat.devices.sberbank.ru/api/v1/chat/completions\"\n",
        "\n",
        "def use_gigachat_row(row, model='GigaChat-2'):\n",
        "    global access_token\n",
        "    headers = {\n",
        "    'Content-Type': 'application/json',\n",
        "    'Accept': 'application/json',\n",
        "    'Authorization': f'Bearer {access_token}'\n",
        "    }\n",
        "    payload = json.dumps({\n",
        "        \"model\": model,\n",
        "        \"messages\": [\n",
        "            {\"role\": \"system\", \"content\": system_instruction},\n",
        "            {\"role\": \"user\", \"content\": get_prompt(row['text'], row['rhyme_scheme'], row['meter'])}\n",
        "        ],\n",
        "        \"stream\": False,\n",
        "        \"repetition_penalty\": 1\n",
        "    })\n",
        "    try:\n",
        "        response = requests.request(\"POST\", url, headers=headers, data=payload, verify='russian_trusted_root_ca.cer')\n",
        "        return response.json()['choices'][0]['message']['content']\n",
        "    except:\n",
        "        print('error')\n",
        "        access_token = get_access_token()\n",
        "        headers = {\n",
        "        'Content-Type': 'application/json',\n",
        "        'Accept': 'application/json',\n",
        "        'Authorization': f'Bearer {access_token}'\n",
        "        }\n",
        "        response = requests.request(\"POST\", url, headers=headers, data=payload, verify='russian_trusted_root_ca.cer')\n",
        "        return response.json()['choices'][0]['message']['content']"
      ]
    },
    {
      "cell_type": "code",
      "execution_count": null,
      "metadata": {},
      "outputs": [],
      "source": [
        "answers = test_model(lambda row: use_gigachat_row(row, model='GigaChat-2'), file_path='prosa_test_text.csv', from_id=0)\n",
        "answers.to_csv('gigachat.csv', index=False)"
      ]
    },
    {
      "cell_type": "markdown",
      "metadata": {},
      "source": [
        "## Creation of prose-poetry dataset"
      ]
    },
    {
      "cell_type": "markdown",
      "metadata": {},
      "source": [
        "### First creation using Gigachat"
      ]
    },
    {
      "cell_type": "markdown",
      "metadata": {},
      "source": [
        "Creation of prose-to-poetry dataset. Uses Gigachat to create prose from `trainset.csv` and `testset.csv` files."
      ]
    },
    {
      "cell_type": "code",
      "execution_count": null,
      "metadata": {
        "id": "HMRnIAHYc3yt"
      },
      "outputs": [],
      "source": [
        "url = \"https://gigachat.devices.sberbank.ru/api/v1/chat/completions\"\n",
        "\n",
        "def use_gigachat_inv(text, model='GigaChat-2'):\n",
        "    global access_token\n",
        "    headers = {\n",
        "    'Content-Type': 'application/json',\n",
        "    'Accept': 'application/json',\n",
        "    'Authorization': f'Bearer {access_token}'\n",
        "    }\n",
        "    payload = json.dumps({\n",
        "        \"model\": model,\n",
        "        \"messages\": [\n",
        "            {\"role\": \"system\", \"content\": system_instruction_inv},\n",
        "            {\"role\": \"user\", \"content\": text}\n",
        "        ],\n",
        "        \"stream\": False,\n",
        "        \"repetition_penalty\": 1\n",
        "    })\n",
        "    try:\n",
        "        response = requests.request(\"POST\", url, headers=headers, data=payload, verify='russian_trusted_root_ca.cer')\n",
        "        return response.json()['choices'][0]['message']['content']\n",
        "    except:\n",
        "        print('error')\n",
        "        access_token = get_access_token()\n",
        "        headers = {\n",
        "        'Content-Type': 'application/json',\n",
        "        'Accept': 'application/json',\n",
        "        'Authorization': f'Bearer {access_token}'\n",
        "        }\n",
        "        response = requests.request(\"POST\", url, headers=headers, data=payload, verify='russian_trusted_root_ca.cer')\n",
        "        return response.json()['choices'][0]['message']['content']"
      ]
    },
    {
      "cell_type": "markdown",
      "metadata": {},
      "source": [
        "Creating prosa for trainset"
      ]
    },
    {
      "cell_type": "code",
      "execution_count": null,
      "metadata": {
        "colab": {
          "base_uri": "https://localhost:8080/"
        },
        "id": "WWg8My_oc3yv",
        "outputId": "71d809bc-fa64-4f56-ea2e-f7ee39e6c0a5"
      },
      "outputs": [],
      "source": [
        "answers = generate_model_answers_inv(use_gigachat_inv,\n",
        "                                     file_path='trainset.csv',\n",
        "                                     from_id=0)\n",
        "answers.to_csv('gigachat_train_inv.csv', index=False)"
      ]
    },
    {
      "cell_type": "code",
      "execution_count": null,
      "metadata": {
        "colab": {
          "base_uri": "https://localhost:8080/",
          "height": 455
        },
        "id": "kTw8trmdiK30",
        "outputId": "be632b1f-ed11-46b7-83ab-41ddfef8bb3c"
      },
      "outputs": [],
      "source": [
        "ans = pd.read_csv('gigachat_train_inv.csv')[['0']].rename({'0': 'input'}, axis=1)\n",
        "ans['index'] = range(1000, 11000)\n",
        "ans = ans.set_index('index')\n",
        "inputs = pd.read_csv('trainset.csv')\n",
        "df = pd.concat([inputs, ans], axis=1)\n",
        "df = df[~df['input'].isna()]\n",
        "df.to_csv('trainset.csv')"
      ]
    },
    {
      "cell_type": "markdown",
      "metadata": {},
      "source": [
        "Creating prosa for testset."
      ]
    },
    {
      "cell_type": "code",
      "execution_count": null,
      "metadata": {},
      "outputs": [],
      "source": [
        "answers = generate_model_answers_inv(use_gigachat_inv,\n",
        "                                     file_path='testset.csv',\n",
        "                                     from_id=0)\n",
        "answers.to_csv('gigachat_test_inv.csv', index=False)"
      ]
    },
    {
      "cell_type": "code",
      "execution_count": null,
      "metadata": {},
      "outputs": [],
      "source": [
        "ans = pd.read_csv('gigachat_test_inv.csv')[['0']].rename({'0': 'input'}, axis=1)\n",
        "ans['index'] = range(0, 1000)\n",
        "ans = ans.set_index('index')\n",
        "inputs = pd.read_csv('testset.csv')\n",
        "df = pd.concat([inputs, ans], axis=1)\n",
        "df = df[~df['input'].isna()]\n",
        "df.to_csv('testset.csv')"
      ]
    },
    {
      "cell_type": "markdown",
      "metadata": {},
      "source": [
        "### Recreation of bad examples"
      ]
    },
    {
      "cell_type": "markdown",
      "metadata": {},
      "source": [
        "This section finds bad prosa examples and recreates them with Gemini."
      ]
    },
    {
      "cell_type": "code",
      "execution_count": null,
      "metadata": {},
      "outputs": [],
      "source": [
        "import pandas as pd\n",
        "import ast\n",
        "import re\n",
        "import matplotlib.pyplot as plt\n",
        "\n",
        "def clean_text(text):\n",
        "    text = re.sub(r\"[^\\w\\s.,;:!?\\\"'«»()\\[\\]\\-–—…]\", \"\", text)\n",
        "    return text\n",
        "\n",
        "def jaccard_similarity(a, b):\n",
        "    a_set = set(a.lower().split())\n",
        "    b_set = set(b.lower().split())\n",
        "    return len(a_set & b_set) / len(a_set | b_set)"
      ]
    },
    {
      "cell_type": "markdown",
      "metadata": {},
      "source": [
        "Read `trainset.csv` file and see distribution of lens of prosa and poetry."
      ]
    },
    {
      "cell_type": "code",
      "execution_count": null,
      "metadata": {},
      "outputs": [],
      "source": [
        "df = pd.read_csv('trainset.csv', index_col=0)\n",
        "df['input'] = df['input'].apply(clean_text)"
      ]
    },
    {
      "cell_type": "code",
      "execution_count": null,
      "metadata": {},
      "outputs": [
        {
          "data": {
            "text/plain": [
              "<matplotlib.legend.Legend at 0x7be74e566610>"
            ]
          },
          "metadata": {},
          "output_type": "display_data"
        },
        {
          "data": {
            "image/png": "[encoded data removed]",
            "text/plain": [
              "<Figure size 640x480 with 1 Axes>"
            ]
          },
          "metadata": {},
          "output_type": "display_data"
        }
      ],
      "source": [
        "df['len'] = [len('\\n'.join(ast.literal_eval(x))) for x in df['stanzas']]\n",
        "df['len_input'] = [len(x) for x in df['input']]\n",
        "df['len'].plot.hist(bins=40, alpha=0.5)\n",
        "df['len_input'].plot.hist(bins=40, alpha=0.5)\n",
        "plt.legend()"
      ]
    },
    {
      "cell_type": "markdown",
      "metadata": {},
      "source": [
        "Distribution of difference of lens of prose and poetry."
      ]
    },
    {
      "cell_type": "code",
      "execution_count": null,
      "metadata": {},
      "outputs": [
        {
          "data": {
            "text/plain": [
              "<Axes: ylabel='Frequency'>"
            ]
          },
          "metadata": {},
          "output_type": "display_data"
        },
        {
          "data": {
            "image/png": "[encoded data removed]",
            "text/plain": [
              "<Figure size 640x480 with 1 Axes>"
            ]
          },
          "metadata": {},
          "output_type": "display_data"
        }
      ],
      "source": [
        "(df['len'] -df['len_input']).plot.hist(bins=40)"
      ]
    },
    {
      "cell_type": "markdown",
      "metadata": {},
      "source": [
        "Create file `temp_train.csv` with bad examples: they can have jaccard_similarity between prose and poetry more than 0.7; absolute difference between lens of prose and poetry more than 250; or one of lines of prose can remain unchanged."
      ]
    },
    {
      "cell_type": "code",
      "execution_count": null,
      "metadata": {},
      "outputs": [],
      "source": [
        "df_new = []\n",
        "for i, row in df.iterrows():\n",
        "    st = ast.literal_eval(row['stanzas'])\n",
        "    if len(st) != 4:\n",
        "        print(i, row['stanzas'])\n",
        "    if (\n",
        "        jaccard_similarity(row['input'], '\\n'.join(st)) > 0.7 or\n",
        "         abs(row['len'] -row['len_input']) > 250 or\n",
        "        st[0].lower() in row['input'].lower() or\n",
        "        st[1].lower() in row['input'].lower() or\n",
        "        st[2].lower() in row['input'].lower() or\n",
        "        st[3].lower() in row['input'].lower()):\n",
        "        \n",
        "        df_new.append(row)\n",
        "df_new = pd.DataFrame(df_new)\n",
        "df_new.to_csv('temp_train.csv')"
      ]
    },
    {
      "cell_type": "markdown",
      "metadata": {},
      "source": [
        "This code uses Gemini-2.0-Flash for creating prose from stanzas from file `temp_train.csv`. Then it saves new prose in column `new_input` and resaves file `temp_train.csv`."
      ]
    },
    {
      "cell_type": "code",
      "execution_count": null,
      "metadata": {},
      "outputs": [],
      "source": [
        "def use_gemini_inv(text):\n",
        "    while True:\n",
        "        try:\n",
        "            model = genai.GenerativeModel(\n",
        "                        model_name=\"gemini-2.0-flash\",\n",
        "                        system_instruction=system_instruction_inv)\n",
        "            response = model.generate_content(text)\n",
        "            return response.text\n",
        "        except:\n",
        "            print('error')\n",
        "            sleep(30)"
      ]
    },
    {
      "cell_type": "code",
      "execution_count": null,
      "metadata": {},
      "outputs": [],
      "source": [
        "answers = generate_model_answers_inv(use_gemini_inv, from_id=0, file_path='temp_train.csv')\n",
        "answers.to_csv('gemini.csv', index=False)"
      ]
    },
    {
      "cell_type": "code",
      "execution_count": null,
      "metadata": {},
      "outputs": [],
      "source": [
        "df = pd.read_csv('temp_train.csv', index_col=0)\n",
        "ans = pd.read_csv('gemini.csv')['0'].values\n",
        "df['new_input'] = ans\n",
        "df.to_csv('temp_train.csv')"
      ]
    },
    {
      "cell_type": "markdown",
      "metadata": {},
      "source": [
        "Then the `input` column is rewritten by the `new_input` column if the new values have better jaccard_similarity or better difference of lens. "
      ]
    },
    {
      "cell_type": "code",
      "execution_count": null,
      "metadata": {},
      "outputs": [],
      "source": [
        "df_new = pd.read_csv('temp_train.csv', index_col=0)\n",
        "df_new['new_input'] = df_new['new_input'].apply(clean_text)\n",
        "for i, row in df_new.iterrows():\n",
        "    st = ast.literal_eval(row['stanzas'])\n",
        "    if (\n",
        "        jaccard_similarity(row['input'], '\\n'.join(st)) > jaccard_similarity(row['new_input'], '\\n'.join(st)) or\n",
        "         abs(row['len'] -row['len_input']) > abs(row['len'] - len(row['new_input']))):\n",
        "        df_new.loc[i, 'input'] = row['new_input']"
      ]
    },
    {
      "cell_type": "markdown",
      "metadata": {},
      "source": [
        "Resave `trainset.csv` with new input from `temp_train.csv`."
      ]
    },
    {
      "cell_type": "code",
      "execution_count": null,
      "metadata": {},
      "outputs": [],
      "source": [
        "df = pd.read_csv('trainset.csv', index_col=0)\n",
        "df.loc[df_new.index, 'input'] = df_new['input']\n",
        "df.to_csv('trainset.csv')"
      ]
    }
  ],
  "metadata": {
    "colab": {
      "collapsed_sections": [
        "xLrQRwcz_4QS",
        "brDADHKz_XDt",
        "dgyCCfHn9r6Q"
      ],
      "provenance": []
    },
    "kernelspec": {
      "display_name": "Python 3",
      "name": "python3"
    },
    "language_info": {
      "name": "python"
    }
  },
  "nbformat": 4,
  "nbformat_minor": 0
}
